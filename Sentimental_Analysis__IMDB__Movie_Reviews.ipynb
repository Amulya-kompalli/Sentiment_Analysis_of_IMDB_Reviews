{
  "nbformat": 4,
  "nbformat_minor": 0,
  "metadata": {
    "colab": {
      "name": "Sentimental_Analysis_ IMDB_ Movie_Reviews",
      "provenance": [],
      "collapsed_sections": []
    },
    "kernelspec": {
      "name": "python3",
      "display_name": "Python 3"
    },
    "language_info": {
      "name": "python"
    }
  },
  "cells": [
    {
      "cell_type": "markdown",
      "source": [
        "## Sentimental anlaysis of IMDB movie reviews using Machine learning and Deep learning algorithms.\n"
      ],
      "metadata": {
        "id": "Tu9A__kZsCGT"
      }
    },
    {
      "cell_type": "markdown",
      "source": [
        "**Abstract**\n",
        "1.Sentiment analysis is the study,to classify the text based on customer reviews which can provide valuable information to improve business.\n",
        "2. Previously the analysis was carried out based on the information provided\n",
        "by the customers using natural language processing and machine learning.    \n",
        "3. In this paper, sentiment analysis on IMDB movie reviews dataset is implemented using Machine Learning (ML) and Deep Learning (DL) approaches to measure the accuracy of the model. \n",
        "4.ML algorithms are the traditional algorithms that work in a single layer while deep learning algorithms work on multilayers and gives better output.\n",
        "5. This implementation helps the researchers to identify the best algorithm for sentiment analysis.\n",
        "6.The comparison of the machine learning and deep learning approaches shows that DL algorithms provide accurate and efficient result."
      ],
      "metadata": {
        "id": "ofQI1GtFscC-"
      }
    },
    {
      "cell_type": "code",
      "metadata": {
        "colab": {
          "base_uri": "https://localhost:8080/"
        },
        "id": "PwELpk-mySAN",
        "outputId": "14f2a10c-d911-4cda-ccdd-12039dc99a4f"
      },
      "source": [
        "#Load the libraries\n",
        "import numpy as np\n",
        "import pandas as pd\n",
        "import seaborn as sns\n",
        "import matplotlib.pyplot as plt\n",
        "import nltk\n",
        "nltk.download('stopwords')\n",
        "nltk.download('wordnet')\n",
        "from sklearn.feature_extraction.text import CountVectorizer\n",
        "from sklearn.feature_extraction.text import TfidfVectorizer\n",
        "from sklearn.model_selection import train_test_split\n",
        "from sklearn.preprocessing import LabelBinarizer\n",
        "from nltk.corpus import stopwords\n",
        "from nltk.stem.porter import PorterStemmer\n",
        "from wordcloud import WordCloud,STOPWORDS\n",
        "from sklearn.linear_model import LogisticRegression\n",
        "from sklearn.model_selection import cross_val_score\n",
        "from sklearn.metrics import f1_score\n",
        "from sklearn.naive_bayes import GaussianNB\n",
        "from sklearn.pipeline import make_pipeline\n",
        "from scipy.sparse import hstack\n",
        "import xgboost as xgb\n",
        "from xgboost.sklearn import XGBClassifier\n",
        "from sklearn import svm\n",
        "from sklearn.model_selection import GridSearchCV\n",
        "from nltk.stem import WordNetLemmatizer\n",
        "from nltk.tokenize import word_tokenize,sent_tokenize\n",
        "# from bs4 import BeautifulSoup\n",
        "import spacy\n",
        "import re,string,unicodedata\n",
        "from nltk.tokenize.toktok import ToktokTokenizer\n",
        "from nltk.stem import LancasterStemmer,WordNetLemmatizer\n",
        "from sklearn.linear_model import LogisticRegression,SGDClassifier\n",
        "from sklearn.naive_bayes import MultinomialNB\n",
        "from sklearn.svm import SVC\n",
        "from textblob import TextBlob\n",
        "from textblob import Word\n",
        "from keras.models import Sequential\n",
        "from keras.layers import Dense, Dropout\n",
        "from sklearn.metrics import classification_report,confusion_matrix,accuracy_score\n",
        "from keras.wrappers.scikit_learn import KerasClassifier\n",
        "import string\n",
        "from keras.preprocessing import text, sequence\n",
        "from keras import layers, models, optimizers\n",
        "from keras.models import Sequential\n",
        "from keras.layers.embeddings import Embedding\n",
        "from keras.layers import SimpleRNN, Dense, Activation\n"
      ],
      "execution_count": 1,
      "outputs": [
        {
          "output_type": "stream",
          "name": "stdout",
          "text": [
            "[nltk_data] Downloading package stopwords to /root/nltk_data...\n",
            "[nltk_data]   Unzipping corpora/stopwords.zip.\n",
            "[nltk_data] Downloading package wordnet to /root/nltk_data...\n",
            "[nltk_data]   Unzipping corpora/wordnet.zip.\n"
          ]
        }
      ]
    },
    {
      "cell_type": "code",
      "metadata": {
        "colab": {
          "base_uri": "https://localhost:8080/",
          "height": 537
        },
        "id": "FDxi1pkvyl1P",
        "outputId": "91ba1369-16da-416a-8501-aea62abc8a60"
      },
      "source": [
        "#importing the training data\n",
        "data=pd.read_csv('/content/IMDB Dataset.csv')\n",
        "print(data.shape)\n",
        "data.head(15)"
      ],
      "execution_count": 6,
      "outputs": [
        {
          "output_type": "stream",
          "name": "stdout",
          "text": [
            "(50000, 2)\n"
          ]
        },
        {
          "output_type": "execute_result",
          "data": {
            "text/plain": [
              "                                               review sentiment\n",
              "0   One of the other reviewers has mentioned that ...  positive\n",
              "1   A wonderful little production. <br /><br />The...  positive\n",
              "2   I thought this was a wonderful way to spend ti...  positive\n",
              "3   Basically there's a family where a little boy ...  negative\n",
              "4   Petter Mattei's \"Love in the Time of Money\" is...  positive\n",
              "5   Probably my all-time favorite movie, a story o...  positive\n",
              "6   I sure would like to see a resurrection of a u...  positive\n",
              "7   This show was an amazing, fresh & innovative i...  negative\n",
              "8   Encouraged by the positive comments about this...  negative\n",
              "9   If you like original gut wrenching laughter yo...  positive\n",
              "10  Phil the Alien is one of those quirky films wh...  negative\n",
              "11  I saw this movie when I was about 12 when it c...  negative\n",
              "12  So im not a big fan of Boll's work but then ag...  negative\n",
              "13  The cast played Shakespeare.<br /><br />Shakes...  negative\n",
              "14  This a fantastic movie of three prisoners who ...  positive"
            ],
            "text/html": [
              "\n",
              "  <div id=\"df-a477f793-9d70-4c00-9339-5fd07e478432\">\n",
              "    <div class=\"colab-df-container\">\n",
              "      <div>\n",
              "<style scoped>\n",
              "    .dataframe tbody tr th:only-of-type {\n",
              "        vertical-align: middle;\n",
              "    }\n",
              "\n",
              "    .dataframe tbody tr th {\n",
              "        vertical-align: top;\n",
              "    }\n",
              "\n",
              "    .dataframe thead th {\n",
              "        text-align: right;\n",
              "    }\n",
              "</style>\n",
              "<table border=\"1\" class=\"dataframe\">\n",
              "  <thead>\n",
              "    <tr style=\"text-align: right;\">\n",
              "      <th></th>\n",
              "      <th>review</th>\n",
              "      <th>sentiment</th>\n",
              "    </tr>\n",
              "  </thead>\n",
              "  <tbody>\n",
              "    <tr>\n",
              "      <th>0</th>\n",
              "      <td>One of the other reviewers has mentioned that ...</td>\n",
              "      <td>positive</td>\n",
              "    </tr>\n",
              "    <tr>\n",
              "      <th>1</th>\n",
              "      <td>A wonderful little production. &lt;br /&gt;&lt;br /&gt;The...</td>\n",
              "      <td>positive</td>\n",
              "    </tr>\n",
              "    <tr>\n",
              "      <th>2</th>\n",
              "      <td>I thought this was a wonderful way to spend ti...</td>\n",
              "      <td>positive</td>\n",
              "    </tr>\n",
              "    <tr>\n",
              "      <th>3</th>\n",
              "      <td>Basically there's a family where a little boy ...</td>\n",
              "      <td>negative</td>\n",
              "    </tr>\n",
              "    <tr>\n",
              "      <th>4</th>\n",
              "      <td>Petter Mattei's \"Love in the Time of Money\" is...</td>\n",
              "      <td>positive</td>\n",
              "    </tr>\n",
              "    <tr>\n",
              "      <th>5</th>\n",
              "      <td>Probably my all-time favorite movie, a story o...</td>\n",
              "      <td>positive</td>\n",
              "    </tr>\n",
              "    <tr>\n",
              "      <th>6</th>\n",
              "      <td>I sure would like to see a resurrection of a u...</td>\n",
              "      <td>positive</td>\n",
              "    </tr>\n",
              "    <tr>\n",
              "      <th>7</th>\n",
              "      <td>This show was an amazing, fresh &amp; innovative i...</td>\n",
              "      <td>negative</td>\n",
              "    </tr>\n",
              "    <tr>\n",
              "      <th>8</th>\n",
              "      <td>Encouraged by the positive comments about this...</td>\n",
              "      <td>negative</td>\n",
              "    </tr>\n",
              "    <tr>\n",
              "      <th>9</th>\n",
              "      <td>If you like original gut wrenching laughter yo...</td>\n",
              "      <td>positive</td>\n",
              "    </tr>\n",
              "    <tr>\n",
              "      <th>10</th>\n",
              "      <td>Phil the Alien is one of those quirky films wh...</td>\n",
              "      <td>negative</td>\n",
              "    </tr>\n",
              "    <tr>\n",
              "      <th>11</th>\n",
              "      <td>I saw this movie when I was about 12 when it c...</td>\n",
              "      <td>negative</td>\n",
              "    </tr>\n",
              "    <tr>\n",
              "      <th>12</th>\n",
              "      <td>So im not a big fan of Boll's work but then ag...</td>\n",
              "      <td>negative</td>\n",
              "    </tr>\n",
              "    <tr>\n",
              "      <th>13</th>\n",
              "      <td>The cast played Shakespeare.&lt;br /&gt;&lt;br /&gt;Shakes...</td>\n",
              "      <td>negative</td>\n",
              "    </tr>\n",
              "    <tr>\n",
              "      <th>14</th>\n",
              "      <td>This a fantastic movie of three prisoners who ...</td>\n",
              "      <td>positive</td>\n",
              "    </tr>\n",
              "  </tbody>\n",
              "</table>\n",
              "</div>\n",
              "      <button class=\"colab-df-convert\" onclick=\"convertToInteractive('df-a477f793-9d70-4c00-9339-5fd07e478432')\"\n",
              "              title=\"Convert this dataframe to an interactive table.\"\n",
              "              style=\"display:none;\">\n",
              "        \n",
              "  <svg xmlns=\"http://www.w3.org/2000/svg\" height=\"24px\"viewBox=\"0 0 24 24\"\n",
              "       width=\"24px\">\n",
              "    <path d=\"M0 0h24v24H0V0z\" fill=\"none\"/>\n",
              "    <path d=\"M18.56 5.44l.94 2.06.94-2.06 2.06-.94-2.06-.94-.94-2.06-.94 2.06-2.06.94zm-11 1L8.5 8.5l.94-2.06 2.06-.94-2.06-.94L8.5 2.5l-.94 2.06-2.06.94zm10 10l.94 2.06.94-2.06 2.06-.94-2.06-.94-.94-2.06-.94 2.06-2.06.94z\"/><path d=\"M17.41 7.96l-1.37-1.37c-.4-.4-.92-.59-1.43-.59-.52 0-1.04.2-1.43.59L10.3 9.45l-7.72 7.72c-.78.78-.78 2.05 0 2.83L4 21.41c.39.39.9.59 1.41.59.51 0 1.02-.2 1.41-.59l7.78-7.78 2.81-2.81c.8-.78.8-2.07 0-2.86zM5.41 20L4 18.59l7.72-7.72 1.47 1.35L5.41 20z\"/>\n",
              "  </svg>\n",
              "      </button>\n",
              "      \n",
              "  <style>\n",
              "    .colab-df-container {\n",
              "      display:flex;\n",
              "      flex-wrap:wrap;\n",
              "      gap: 12px;\n",
              "    }\n",
              "\n",
              "    .colab-df-convert {\n",
              "      background-color: #E8F0FE;\n",
              "      border: none;\n",
              "      border-radius: 50%;\n",
              "      cursor: pointer;\n",
              "      display: none;\n",
              "      fill: #1967D2;\n",
              "      height: 32px;\n",
              "      padding: 0 0 0 0;\n",
              "      width: 32px;\n",
              "    }\n",
              "\n",
              "    .colab-df-convert:hover {\n",
              "      background-color: #E2EBFA;\n",
              "      box-shadow: 0px 1px 2px rgba(60, 64, 67, 0.3), 0px 1px 3px 1px rgba(60, 64, 67, 0.15);\n",
              "      fill: #174EA6;\n",
              "    }\n",
              "\n",
              "    [theme=dark] .colab-df-convert {\n",
              "      background-color: #3B4455;\n",
              "      fill: #D2E3FC;\n",
              "    }\n",
              "\n",
              "    [theme=dark] .colab-df-convert:hover {\n",
              "      background-color: #434B5C;\n",
              "      box-shadow: 0px 1px 3px 1px rgba(0, 0, 0, 0.15);\n",
              "      filter: drop-shadow(0px 1px 2px rgba(0, 0, 0, 0.3));\n",
              "      fill: #FFFFFF;\n",
              "    }\n",
              "  </style>\n",
              "\n",
              "      <script>\n",
              "        const buttonEl =\n",
              "          document.querySelector('#df-a477f793-9d70-4c00-9339-5fd07e478432 button.colab-df-convert');\n",
              "        buttonEl.style.display =\n",
              "          google.colab.kernel.accessAllowed ? 'block' : 'none';\n",
              "\n",
              "        async function convertToInteractive(key) {\n",
              "          const element = document.querySelector('#df-a477f793-9d70-4c00-9339-5fd07e478432');\n",
              "          const dataTable =\n",
              "            await google.colab.kernel.invokeFunction('convertToInteractive',\n",
              "                                                     [key], {});\n",
              "          if (!dataTable) return;\n",
              "\n",
              "          const docLinkHtml = 'Like what you see? Visit the ' +\n",
              "            '<a target=\"_blank\" href=https://colab.research.google.com/notebooks/data_table.ipynb>data table notebook</a>'\n",
              "            + ' to learn more about interactive tables.';\n",
              "          element.innerHTML = '';\n",
              "          dataTable['output_type'] = 'display_data';\n",
              "          await google.colab.output.renderOutput(dataTable, element);\n",
              "          const docLink = document.createElement('div');\n",
              "          docLink.innerHTML = docLinkHtml;\n",
              "          element.appendChild(docLink);\n",
              "        }\n",
              "      </script>\n",
              "    </div>\n",
              "  </div>\n",
              "  "
            ]
          },
          "metadata": {},
          "execution_count": 6
        }
      ]
    },
    {
      "cell_type": "code",
      "metadata": {
        "colab": {
          "base_uri": "https://localhost:8080/",
          "height": 174
        },
        "id": "RBcKm4abyxIV",
        "outputId": "4a1700d5-f6a3-496d-9245-2febae95d895"
      },
      "source": [
        "#Summary of the dataset\n",
        "data.describe()\n"
      ],
      "execution_count": 7,
      "outputs": [
        {
          "output_type": "execute_result",
          "data": {
            "text/plain": [
              "                                                   review sentiment\n",
              "count                                               50000     50000\n",
              "unique                                              49582         2\n",
              "top     Loved today's show!!! It was a variety and not...  positive\n",
              "freq                                                    5     25000"
            ],
            "text/html": [
              "\n",
              "  <div id=\"df-9885b498-7eda-4520-a4f9-f85879e36c3e\">\n",
              "    <div class=\"colab-df-container\">\n",
              "      <div>\n",
              "<style scoped>\n",
              "    .dataframe tbody tr th:only-of-type {\n",
              "        vertical-align: middle;\n",
              "    }\n",
              "\n",
              "    .dataframe tbody tr th {\n",
              "        vertical-align: top;\n",
              "    }\n",
              "\n",
              "    .dataframe thead th {\n",
              "        text-align: right;\n",
              "    }\n",
              "</style>\n",
              "<table border=\"1\" class=\"dataframe\">\n",
              "  <thead>\n",
              "    <tr style=\"text-align: right;\">\n",
              "      <th></th>\n",
              "      <th>review</th>\n",
              "      <th>sentiment</th>\n",
              "    </tr>\n",
              "  </thead>\n",
              "  <tbody>\n",
              "    <tr>\n",
              "      <th>count</th>\n",
              "      <td>50000</td>\n",
              "      <td>50000</td>\n",
              "    </tr>\n",
              "    <tr>\n",
              "      <th>unique</th>\n",
              "      <td>49582</td>\n",
              "      <td>2</td>\n",
              "    </tr>\n",
              "    <tr>\n",
              "      <th>top</th>\n",
              "      <td>Loved today's show!!! It was a variety and not...</td>\n",
              "      <td>positive</td>\n",
              "    </tr>\n",
              "    <tr>\n",
              "      <th>freq</th>\n",
              "      <td>5</td>\n",
              "      <td>25000</td>\n",
              "    </tr>\n",
              "  </tbody>\n",
              "</table>\n",
              "</div>\n",
              "      <button class=\"colab-df-convert\" onclick=\"convertToInteractive('df-9885b498-7eda-4520-a4f9-f85879e36c3e')\"\n",
              "              title=\"Convert this dataframe to an interactive table.\"\n",
              "              style=\"display:none;\">\n",
              "        \n",
              "  <svg xmlns=\"http://www.w3.org/2000/svg\" height=\"24px\"viewBox=\"0 0 24 24\"\n",
              "       width=\"24px\">\n",
              "    <path d=\"M0 0h24v24H0V0z\" fill=\"none\"/>\n",
              "    <path d=\"M18.56 5.44l.94 2.06.94-2.06 2.06-.94-2.06-.94-.94-2.06-.94 2.06-2.06.94zm-11 1L8.5 8.5l.94-2.06 2.06-.94-2.06-.94L8.5 2.5l-.94 2.06-2.06.94zm10 10l.94 2.06.94-2.06 2.06-.94-2.06-.94-.94-2.06-.94 2.06-2.06.94z\"/><path d=\"M17.41 7.96l-1.37-1.37c-.4-.4-.92-.59-1.43-.59-.52 0-1.04.2-1.43.59L10.3 9.45l-7.72 7.72c-.78.78-.78 2.05 0 2.83L4 21.41c.39.39.9.59 1.41.59.51 0 1.02-.2 1.41-.59l7.78-7.78 2.81-2.81c.8-.78.8-2.07 0-2.86zM5.41 20L4 18.59l7.72-7.72 1.47 1.35L5.41 20z\"/>\n",
              "  </svg>\n",
              "      </button>\n",
              "      \n",
              "  <style>\n",
              "    .colab-df-container {\n",
              "      display:flex;\n",
              "      flex-wrap:wrap;\n",
              "      gap: 12px;\n",
              "    }\n",
              "\n",
              "    .colab-df-convert {\n",
              "      background-color: #E8F0FE;\n",
              "      border: none;\n",
              "      border-radius: 50%;\n",
              "      cursor: pointer;\n",
              "      display: none;\n",
              "      fill: #1967D2;\n",
              "      height: 32px;\n",
              "      padding: 0 0 0 0;\n",
              "      width: 32px;\n",
              "    }\n",
              "\n",
              "    .colab-df-convert:hover {\n",
              "      background-color: #E2EBFA;\n",
              "      box-shadow: 0px 1px 2px rgba(60, 64, 67, 0.3), 0px 1px 3px 1px rgba(60, 64, 67, 0.15);\n",
              "      fill: #174EA6;\n",
              "    }\n",
              "\n",
              "    [theme=dark] .colab-df-convert {\n",
              "      background-color: #3B4455;\n",
              "      fill: #D2E3FC;\n",
              "    }\n",
              "\n",
              "    [theme=dark] .colab-df-convert:hover {\n",
              "      background-color: #434B5C;\n",
              "      box-shadow: 0px 1px 3px 1px rgba(0, 0, 0, 0.15);\n",
              "      filter: drop-shadow(0px 1px 2px rgba(0, 0, 0, 0.3));\n",
              "      fill: #FFFFFF;\n",
              "    }\n",
              "  </style>\n",
              "\n",
              "      <script>\n",
              "        const buttonEl =\n",
              "          document.querySelector('#df-9885b498-7eda-4520-a4f9-f85879e36c3e button.colab-df-convert');\n",
              "        buttonEl.style.display =\n",
              "          google.colab.kernel.accessAllowed ? 'block' : 'none';\n",
              "\n",
              "        async function convertToInteractive(key) {\n",
              "          const element = document.querySelector('#df-9885b498-7eda-4520-a4f9-f85879e36c3e');\n",
              "          const dataTable =\n",
              "            await google.colab.kernel.invokeFunction('convertToInteractive',\n",
              "                                                     [key], {});\n",
              "          if (!dataTable) return;\n",
              "\n",
              "          const docLinkHtml = 'Like what you see? Visit the ' +\n",
              "            '<a target=\"_blank\" href=https://colab.research.google.com/notebooks/data_table.ipynb>data table notebook</a>'\n",
              "            + ' to learn more about interactive tables.';\n",
              "          element.innerHTML = '';\n",
              "          dataTable['output_type'] = 'display_data';\n",
              "          await google.colab.output.renderOutput(dataTable, element);\n",
              "          const docLink = document.createElement('div');\n",
              "          docLink.innerHTML = docLinkHtml;\n",
              "          element.appendChild(docLink);\n",
              "        }\n",
              "      </script>\n",
              "    </div>\n",
              "  </div>\n",
              "  "
            ]
          },
          "metadata": {},
          "execution_count": 7
        }
      ]
    },
    {
      "cell_type": "markdown",
      "metadata": {
        "id": "YJgiu_Wwy4K9"
      },
      "source": [
        "## Sentiment count"
      ]
    },
    {
      "cell_type": "code",
      "metadata": {
        "colab": {
          "base_uri": "https://localhost:8080/"
        },
        "id": "33t0U-3uy0gW",
        "outputId": "b384f5fb-cfa6-4cca-9508-afa695d96b0b"
      },
      "source": [
        "#Class Distrubution\n",
        "data['sentiment'].value_counts()"
      ],
      "execution_count": 8,
      "outputs": [
        {
          "output_type": "execute_result",
          "data": {
            "text/plain": [
              "positive    25000\n",
              "negative    25000\n",
              "Name: sentiment, dtype: int64"
            ]
          },
          "metadata": {},
          "execution_count": 8
        }
      ]
    },
    {
      "cell_type": "code",
      "metadata": {
        "id": "bR4h4NPiy_St"
      },
      "source": [
        "## 0 as Negative and 1 as Positive\n",
        "data.sentiment=data.sentiment.apply(lambda x: 0 if x=='negative' else 1)"
      ],
      "execution_count": 9,
      "outputs": []
    },
    {
      "cell_type": "markdown",
      "metadata": {
        "id": "kvpKpEfhzFbl"
      },
      "source": [
        "## feature extraction."
      ]
    },
    {
      "cell_type": "code",
      "metadata": {
        "id": "cZH7ot9YzLTV"
      },
      "source": [
        "## Indirect features\n",
        "eng_stopwords = set(stopwords.words(\"english\"))\n",
        "\n",
        "data['count_sent']=data[\"review\"].apply(lambda x: len(re.findall(\"\\n\",str(x)))+1)\n",
        "#Word count in each comment:\n",
        "data['count_word']=data[\"review\"].apply(lambda x: len(str(x).split()))\n",
        "#Unique word count\n",
        "data['count_unique_word']=data[\"review\"].apply(lambda x: len(set(str(x).split())))\n",
        "#Letter count\n",
        "data['count_letters']=data[\"review\"].apply(lambda x: len(str(x)))\n",
        "#punctuation count\n",
        "data[\"count_punctuations\"] =data[\"review\"].apply(lambda x: len([c for c in str(x) if c in string.punctuation]))\n",
        "#upper case words count\n",
        "data[\"count_words_upper\"] = data[\"review\"].apply(lambda x: len([w for w in str(x).split() if w.isupper()]))\n",
        "#title case words count\n",
        "data[\"count_words_title\"] = data[\"review\"].apply(lambda x: len([w for w in str(x).split() if w.istitle()]))\n",
        "#Number of stopwords\n",
        "data[\"count_stopwords\"] = data[\"review\"].apply(lambda x: len([w for w in str(x).lower().split() if w in eng_stopwords]))\n",
        "#Average length of the words\n",
        "data[\"mean_word_len\"] = data[\"review\"].apply(lambda x: np.mean([len(w) for w in str(x).split()]))\n",
        "#Word count percent in each comment:\n",
        "data['word_unique_percent']=data['count_unique_word']*100/data['count_word']\n",
        "#Punct percent in each comment:\n",
        "data['punct_percent']=data['count_punctuations']*100/data['count_word']\n",
        "#derived features\n",
        "#Word count percent in each comment:\n",
        "data['word_unique_percent']=data['count_unique_word']*100/data['count_word']\n",
        "#derived features\n",
        "#Punct percent in each comment:\n",
        "data['punct_percent']=data['count_punctuations']*100/data['count_word']"
      ],
      "execution_count": 10,
      "outputs": []
    },
    {
      "cell_type": "code",
      "metadata": {
        "colab": {
          "base_uri": "https://localhost:8080/",
          "height": 669
        },
        "id": "D6xv31M3z8Im",
        "outputId": "1a481655-5756-40da-983c-bde469180675"
      },
      "source": [
        "## Reordering the columns \n",
        "data = data[['review', 'count_sent', 'count_word', 'count_unique_word',\n",
        "       'count_letters', 'count_punctuations', 'count_words_upper',\n",
        "       'count_words_title', 'count_stopwords', 'mean_word_len',\n",
        "       'word_unique_percent', 'punct_percent','sentiment']]\n",
        "data.head()"
      ],
      "execution_count": 11,
      "outputs": [
        {
          "output_type": "execute_result",
          "data": {
            "text/plain": [
              "                                              review  count_sent  count_word  \\\n",
              "0  One of the other reviewers has mentioned that ...           1         307   \n",
              "1  A wonderful little production. <br /><br />The...           1         162   \n",
              "2  I thought this was a wonderful way to spend ti...           1         166   \n",
              "3  Basically there's a family where a little boy ...           1         138   \n",
              "4  Petter Mattei's \"Love in the Time of Money\" is...           1         230   \n",
              "\n",
              "   count_unique_word  count_letters  count_punctuations  count_words_upper  \\\n",
              "0                208           1761                  78                  8   \n",
              "1                114            998                  44                  2   \n",
              "2                121            926                  40                  3   \n",
              "3                 96            748                  42                  3   \n",
              "4                152           1317                  56                  1   \n",
              "\n",
              "   count_words_title  count_stopwords  mean_word_len  word_unique_percent  \\\n",
              "0                 36              133       4.739414            67.752443   \n",
              "1                 12               66       5.166667            70.370370   \n",
              "2                 20               76       4.584337            72.891566   \n",
              "3                 13               62       4.427536            69.565217   \n",
              "4                 31               96       4.730435            66.086957   \n",
              "\n",
              "   punct_percent  sentiment  \n",
              "0      25.407166          1  \n",
              "1      27.160494          1  \n",
              "2      24.096386          1  \n",
              "3      30.434783          0  \n",
              "4      24.347826          1  "
            ],
            "text/html": [
              "\n",
              "  <div id=\"df-a19cbe9e-7ee9-4fcb-aa4e-ec839c89d983\">\n",
              "    <div class=\"colab-df-container\">\n",
              "      <div>\n",
              "<style scoped>\n",
              "    .dataframe tbody tr th:only-of-type {\n",
              "        vertical-align: middle;\n",
              "    }\n",
              "\n",
              "    .dataframe tbody tr th {\n",
              "        vertical-align: top;\n",
              "    }\n",
              "\n",
              "    .dataframe thead th {\n",
              "        text-align: right;\n",
              "    }\n",
              "</style>\n",
              "<table border=\"1\" class=\"dataframe\">\n",
              "  <thead>\n",
              "    <tr style=\"text-align: right;\">\n",
              "      <th></th>\n",
              "      <th>review</th>\n",
              "      <th>count_sent</th>\n",
              "      <th>count_word</th>\n",
              "      <th>count_unique_word</th>\n",
              "      <th>count_letters</th>\n",
              "      <th>count_punctuations</th>\n",
              "      <th>count_words_upper</th>\n",
              "      <th>count_words_title</th>\n",
              "      <th>count_stopwords</th>\n",
              "      <th>mean_word_len</th>\n",
              "      <th>word_unique_percent</th>\n",
              "      <th>punct_percent</th>\n",
              "      <th>sentiment</th>\n",
              "    </tr>\n",
              "  </thead>\n",
              "  <tbody>\n",
              "    <tr>\n",
              "      <th>0</th>\n",
              "      <td>One of the other reviewers has mentioned that ...</td>\n",
              "      <td>1</td>\n",
              "      <td>307</td>\n",
              "      <td>208</td>\n",
              "      <td>1761</td>\n",
              "      <td>78</td>\n",
              "      <td>8</td>\n",
              "      <td>36</td>\n",
              "      <td>133</td>\n",
              "      <td>4.739414</td>\n",
              "      <td>67.752443</td>\n",
              "      <td>25.407166</td>\n",
              "      <td>1</td>\n",
              "    </tr>\n",
              "    <tr>\n",
              "      <th>1</th>\n",
              "      <td>A wonderful little production. &lt;br /&gt;&lt;br /&gt;The...</td>\n",
              "      <td>1</td>\n",
              "      <td>162</td>\n",
              "      <td>114</td>\n",
              "      <td>998</td>\n",
              "      <td>44</td>\n",
              "      <td>2</td>\n",
              "      <td>12</td>\n",
              "      <td>66</td>\n",
              "      <td>5.166667</td>\n",
              "      <td>70.370370</td>\n",
              "      <td>27.160494</td>\n",
              "      <td>1</td>\n",
              "    </tr>\n",
              "    <tr>\n",
              "      <th>2</th>\n",
              "      <td>I thought this was a wonderful way to spend ti...</td>\n",
              "      <td>1</td>\n",
              "      <td>166</td>\n",
              "      <td>121</td>\n",
              "      <td>926</td>\n",
              "      <td>40</td>\n",
              "      <td>3</td>\n",
              "      <td>20</td>\n",
              "      <td>76</td>\n",
              "      <td>4.584337</td>\n",
              "      <td>72.891566</td>\n",
              "      <td>24.096386</td>\n",
              "      <td>1</td>\n",
              "    </tr>\n",
              "    <tr>\n",
              "      <th>3</th>\n",
              "      <td>Basically there's a family where a little boy ...</td>\n",
              "      <td>1</td>\n",
              "      <td>138</td>\n",
              "      <td>96</td>\n",
              "      <td>748</td>\n",
              "      <td>42</td>\n",
              "      <td>3</td>\n",
              "      <td>13</td>\n",
              "      <td>62</td>\n",
              "      <td>4.427536</td>\n",
              "      <td>69.565217</td>\n",
              "      <td>30.434783</td>\n",
              "      <td>0</td>\n",
              "    </tr>\n",
              "    <tr>\n",
              "      <th>4</th>\n",
              "      <td>Petter Mattei's \"Love in the Time of Money\" is...</td>\n",
              "      <td>1</td>\n",
              "      <td>230</td>\n",
              "      <td>152</td>\n",
              "      <td>1317</td>\n",
              "      <td>56</td>\n",
              "      <td>1</td>\n",
              "      <td>31</td>\n",
              "      <td>96</td>\n",
              "      <td>4.730435</td>\n",
              "      <td>66.086957</td>\n",
              "      <td>24.347826</td>\n",
              "      <td>1</td>\n",
              "    </tr>\n",
              "  </tbody>\n",
              "</table>\n",
              "</div>\n",
              "      <button class=\"colab-df-convert\" onclick=\"convertToInteractive('df-a19cbe9e-7ee9-4fcb-aa4e-ec839c89d983')\"\n",
              "              title=\"Convert this dataframe to an interactive table.\"\n",
              "              style=\"display:none;\">\n",
              "        \n",
              "  <svg xmlns=\"http://www.w3.org/2000/svg\" height=\"24px\"viewBox=\"0 0 24 24\"\n",
              "       width=\"24px\">\n",
              "    <path d=\"M0 0h24v24H0V0z\" fill=\"none\"/>\n",
              "    <path d=\"M18.56 5.44l.94 2.06.94-2.06 2.06-.94-2.06-.94-.94-2.06-.94 2.06-2.06.94zm-11 1L8.5 8.5l.94-2.06 2.06-.94-2.06-.94L8.5 2.5l-.94 2.06-2.06.94zm10 10l.94 2.06.94-2.06 2.06-.94-2.06-.94-.94-2.06-.94 2.06-2.06.94z\"/><path d=\"M17.41 7.96l-1.37-1.37c-.4-.4-.92-.59-1.43-.59-.52 0-1.04.2-1.43.59L10.3 9.45l-7.72 7.72c-.78.78-.78 2.05 0 2.83L4 21.41c.39.39.9.59 1.41.59.51 0 1.02-.2 1.41-.59l7.78-7.78 2.81-2.81c.8-.78.8-2.07 0-2.86zM5.41 20L4 18.59l7.72-7.72 1.47 1.35L5.41 20z\"/>\n",
              "  </svg>\n",
              "      </button>\n",
              "      \n",
              "  <style>\n",
              "    .colab-df-container {\n",
              "      display:flex;\n",
              "      flex-wrap:wrap;\n",
              "      gap: 12px;\n",
              "    }\n",
              "\n",
              "    .colab-df-convert {\n",
              "      background-color: #E8F0FE;\n",
              "      border: none;\n",
              "      border-radius: 50%;\n",
              "      cursor: pointer;\n",
              "      display: none;\n",
              "      fill: #1967D2;\n",
              "      height: 32px;\n",
              "      padding: 0 0 0 0;\n",
              "      width: 32px;\n",
              "    }\n",
              "\n",
              "    .colab-df-convert:hover {\n",
              "      background-color: #E2EBFA;\n",
              "      box-shadow: 0px 1px 2px rgba(60, 64, 67, 0.3), 0px 1px 3px 1px rgba(60, 64, 67, 0.15);\n",
              "      fill: #174EA6;\n",
              "    }\n",
              "\n",
              "    [theme=dark] .colab-df-convert {\n",
              "      background-color: #3B4455;\n",
              "      fill: #D2E3FC;\n",
              "    }\n",
              "\n",
              "    [theme=dark] .colab-df-convert:hover {\n",
              "      background-color: #434B5C;\n",
              "      box-shadow: 0px 1px 3px 1px rgba(0, 0, 0, 0.15);\n",
              "      filter: drop-shadow(0px 1px 2px rgba(0, 0, 0, 0.3));\n",
              "      fill: #FFFFFF;\n",
              "    }\n",
              "  </style>\n",
              "\n",
              "      <script>\n",
              "        const buttonEl =\n",
              "          document.querySelector('#df-a19cbe9e-7ee9-4fcb-aa4e-ec839c89d983 button.colab-df-convert');\n",
              "        buttonEl.style.display =\n",
              "          google.colab.kernel.accessAllowed ? 'block' : 'none';\n",
              "\n",
              "        async function convertToInteractive(key) {\n",
              "          const element = document.querySelector('#df-a19cbe9e-7ee9-4fcb-aa4e-ec839c89d983');\n",
              "          const dataTable =\n",
              "            await google.colab.kernel.invokeFunction('convertToInteractive',\n",
              "                                                     [key], {});\n",
              "          if (!dataTable) return;\n",
              "\n",
              "          const docLinkHtml = 'Like what you see? Visit the ' +\n",
              "            '<a target=\"_blank\" href=https://colab.research.google.com/notebooks/data_table.ipynb>data table notebook</a>'\n",
              "            + ' to learn more about interactive tables.';\n",
              "          element.innerHTML = '';\n",
              "          dataTable['output_type'] = 'display_data';\n",
              "          await google.colab.output.renderOutput(dataTable, element);\n",
              "          const docLink = document.createElement('div');\n",
              "          docLink.innerHTML = docLinkHtml;\n",
              "          element.appendChild(docLink);\n",
              "        }\n",
              "      </script>\n",
              "    </div>\n",
              "  </div>\n",
              "  "
            ]
          },
          "metadata": {},
          "execution_count": 11
        }
      ]
    },
    {
      "cell_type": "markdown",
      "metadata": {
        "id": "tY_HwYRy0FHW"
      },
      "source": [
        "## Visualization"
      ]
    },
    {
      "cell_type": "markdown",
      "metadata": {
        "id": "vHcgMsEz0SZf"
      },
      "source": [
        "1) Understanding Sentiment across Word count"
      ]
    },
    {
      "cell_type": "code",
      "metadata": {
        "colab": {
          "base_uri": "https://localhost:8080/",
          "height": 350
        },
        "id": "Kzo-wwJLz_99",
        "outputId": "ee98de3c-1a65-480b-9ca9-13926f89d333"
      },
      "source": [
        "plt.figure(figsize=(20, 5))\n",
        "data1=data[data.count_word<300]\n",
        "ax = sns.countplot(x=\"count_word\",  hue='sentiment', data=data1, palette=\"pastel\")\n",
        "plt.title(\"Distribution of Words in review across Target var\")"
      ],
      "execution_count": 12,
      "outputs": [
        {
          "output_type": "execute_result",
          "data": {
            "text/plain": [
              "Text(0.5, 1.0, 'Distribution of Words in review across Target var')"
            ]
          },
          "metadata": {},
          "execution_count": 12
        },
        {
          "output_type": "display_data",
          "data": {
            "text/plain": [
              "<Figure size 1440x360 with 1 Axes>"
            ],
            "image/png": "[encoded data removed]"
          },
          "metadata": {
            "needs_background": "light"
          }
        }
      ]
    },
    {
      "cell_type": "markdown",
      "metadata": {
        "id": "78LXD-W-0Vqt"
      },
      "source": [
        "2) Understanding Sentiment across Punctuation count"
      ]
    },
    {
      "cell_type": "code",
      "metadata": {
        "colab": {
          "base_uri": "https://localhost:8080/",
          "height": 350
        },
        "id": "Y-FwrD6YzVx3",
        "outputId": "d4b07142-aa00-4036-88bb-7dea222b75c7"
      },
      "source": [
        "plt.figure(figsize=(20, 5))\n",
        "data1=data[data.count_punctuations<300]\n",
        "ax = sns.countplot(x=\"count_punctuations\",  hue='sentiment', data=data1, palette=\"pastel\")\n",
        "plt.title(\"Distribution of Punctuations in review across review sentiment\")"
      ],
      "execution_count": 13,
      "outputs": [
        {
          "output_type": "execute_result",
          "data": {
            "text/plain": [
              "Text(0.5, 1.0, 'Distribution of Punctuations in review across review sentiment')"
            ]
          },
          "metadata": {},
          "execution_count": 13
        },
        {
          "output_type": "display_data",
          "data": {
            "text/plain": [
              "<Figure size 1440x360 with 1 Axes>"
            ],
            "image/png": "[encoded data removed]"
          },
          "metadata": {
            "needs_background": "light"
          }
        }
      ]
    },
    {
      "cell_type": "markdown",
      "metadata": {
        "id": "UC4J5H7b0gUl"
      },
      "source": [
        "3) Understanding Sentiment across Stopwords count"
      ]
    },
    {
      "cell_type": "code",
      "metadata": {
        "colab": {
          "base_uri": "https://localhost:8080/",
          "height": 350
        },
        "id": "MbOd7Mx70ccs",
        "outputId": "ede4dffe-57ee-4526-83e5-6febd4c60f89"
      },
      "source": [
        "plt.figure(figsize=(20, 5))\n",
        "data1=data[data.count_stopwords<300]\n",
        "ax = sns.countplot(x=\"count_stopwords\",  hue='sentiment', data=data1, palette=\"pastel\")\n",
        "plt.title(\"Distribution of Stopwords in review across review sentiment\")"
      ],
      "execution_count": 14,
      "outputs": [
        {
          "output_type": "execute_result",
          "data": {
            "text/plain": [
              "Text(0.5, 1.0, 'Distribution of Stopwords in review across review sentiment')"
            ]
          },
          "metadata": {},
          "execution_count": 14
        },
        {
          "output_type": "display_data",
          "data": {
            "text/plain": [
              "<Figure size 1440x360 with 1 Axes>"
            ],
            "image/png": "[encoded data removed]"
          },
          "metadata": {
            "needs_background": "light"
          }
        }
      ]
    },
    {
      "cell_type": "code",
      "metadata": {
        "colab": {
          "base_uri": "https://localhost:8080/",
          "height": 176
        },
        "id": "dyemAiR90lnG",
        "outputId": "9d1b796a-d4a5-46ed-f079-42e3d977de43"
      },
      "source": [
        "data.groupby(['sentiment'],as_index=False).mean()"
      ],
      "execution_count": 15,
      "outputs": [
        {
          "output_type": "execute_result",
          "data": {
            "text/plain": [
              "   sentiment  count_sent  count_word  count_unique_word  count_letters  \\\n",
              "0          0         1.0   229.46456           152.2662     1294.06436   \n",
              "1          1         1.0   232.84932           152.0156     1324.79768   \n",
              "\n",
              "   count_punctuations  count_words_upper  count_words_title  count_stopwords  \\\n",
              "0            53.59836            5.14632           24.72780        103.38132   \n",
              "1            51.55876            4.56928           27.96804        104.31900   \n",
              "\n",
              "   mean_word_len  word_unique_percent  punct_percent  \n",
              "0       4.623461            70.896372      23.447622  \n",
              "1       4.657892            70.164729      22.077985  "
            ],
            "text/html": [
              "\n",
              "  <div id=\"df-a7fe8d71-41cf-4f07-b5e5-2c958b4c92d9\">\n",
              "    <div class=\"colab-df-container\">\n",
              "      <div>\n",
              "<style scoped>\n",
              "    .dataframe tbody tr th:only-of-type {\n",
              "        vertical-align: middle;\n",
              "    }\n",
              "\n",
              "    .dataframe tbody tr th {\n",
              "        vertical-align: top;\n",
              "    }\n",
              "\n",
              "    .dataframe thead th {\n",
              "        text-align: right;\n",
              "    }\n",
              "</style>\n",
              "<table border=\"1\" class=\"dataframe\">\n",
              "  <thead>\n",
              "    <tr style=\"text-align: right;\">\n",
              "      <th></th>\n",
              "      <th>sentiment</th>\n",
              "      <th>count_sent</th>\n",
              "      <th>count_word</th>\n",
              "      <th>count_unique_word</th>\n",
              "      <th>count_letters</th>\n",
              "      <th>count_punctuations</th>\n",
              "      <th>count_words_upper</th>\n",
              "      <th>count_words_title</th>\n",
              "      <th>count_stopwords</th>\n",
              "      <th>mean_word_len</th>\n",
              "      <th>word_unique_percent</th>\n",
              "      <th>punct_percent</th>\n",
              "    </tr>\n",
              "  </thead>\n",
              "  <tbody>\n",
              "    <tr>\n",
              "      <th>0</th>\n",
              "      <td>0</td>\n",
              "      <td>1.0</td>\n",
              "      <td>229.46456</td>\n",
              "      <td>152.2662</td>\n",
              "      <td>1294.06436</td>\n",
              "      <td>53.59836</td>\n",
              "      <td>5.14632</td>\n",
              "      <td>24.72780</td>\n",
              "      <td>103.38132</td>\n",
              "      <td>4.623461</td>\n",
              "      <td>70.896372</td>\n",
              "      <td>23.447622</td>\n",
              "    </tr>\n",
              "    <tr>\n",
              "      <th>1</th>\n",
              "      <td>1</td>\n",
              "      <td>1.0</td>\n",
              "      <td>232.84932</td>\n",
              "      <td>152.0156</td>\n",
              "      <td>1324.79768</td>\n",
              "      <td>51.55876</td>\n",
              "      <td>4.56928</td>\n",
              "      <td>27.96804</td>\n",
              "      <td>104.31900</td>\n",
              "      <td>4.657892</td>\n",
              "      <td>70.164729</td>\n",
              "      <td>22.077985</td>\n",
              "    </tr>\n",
              "  </tbody>\n",
              "</table>\n",
              "</div>\n",
              "      <button class=\"colab-df-convert\" onclick=\"convertToInteractive('df-a7fe8d71-41cf-4f07-b5e5-2c958b4c92d9')\"\n",
              "              title=\"Convert this dataframe to an interactive table.\"\n",
              "              style=\"display:none;\">\n",
              "        \n",
              "  <svg xmlns=\"http://www.w3.org/2000/svg\" height=\"24px\"viewBox=\"0 0 24 24\"\n",
              "       width=\"24px\">\n",
              "    <path d=\"M0 0h24v24H0V0z\" fill=\"none\"/>\n",
              "    <path d=\"M18.56 5.44l.94 2.06.94-2.06 2.06-.94-2.06-.94-.94-2.06-.94 2.06-2.06.94zm-11 1L8.5 8.5l.94-2.06 2.06-.94-2.06-.94L8.5 2.5l-.94 2.06-2.06.94zm10 10l.94 2.06.94-2.06 2.06-.94-2.06-.94-.94-2.06-.94 2.06-2.06.94z\"/><path d=\"M17.41 7.96l-1.37-1.37c-.4-.4-.92-.59-1.43-.59-.52 0-1.04.2-1.43.59L10.3 9.45l-7.72 7.72c-.78.78-.78 2.05 0 2.83L4 21.41c.39.39.9.59 1.41.59.51 0 1.02-.2 1.41-.59l7.78-7.78 2.81-2.81c.8-.78.8-2.07 0-2.86zM5.41 20L4 18.59l7.72-7.72 1.47 1.35L5.41 20z\"/>\n",
              "  </svg>\n",
              "      </button>\n",
              "      \n",
              "  <style>\n",
              "    .colab-df-container {\n",
              "      display:flex;\n",
              "      flex-wrap:wrap;\n",
              "      gap: 12px;\n",
              "    }\n",
              "\n",
              "    .colab-df-convert {\n",
              "      background-color: #E8F0FE;\n",
              "      border: none;\n",
              "      border-radius: 50%;\n",
              "      cursor: pointer;\n",
              "      display: none;\n",
              "      fill: #1967D2;\n",
              "      height: 32px;\n",
              "      padding: 0 0 0 0;\n",
              "      width: 32px;\n",
              "    }\n",
              "\n",
              "    .colab-df-convert:hover {\n",
              "      background-color: #E2EBFA;\n",
              "      box-shadow: 0px 1px 2px rgba(60, 64, 67, 0.3), 0px 1px 3px 1px rgba(60, 64, 67, 0.15);\n",
              "      fill: #174EA6;\n",
              "    }\n",
              "\n",
              "    [theme=dark] .colab-df-convert {\n",
              "      background-color: #3B4455;\n",
              "      fill: #D2E3FC;\n",
              "    }\n",
              "\n",
              "    [theme=dark] .colab-df-convert:hover {\n",
              "      background-color: #434B5C;\n",
              "      box-shadow: 0px 1px 3px 1px rgba(0, 0, 0, 0.15);\n",
              "      filter: drop-shadow(0px 1px 2px rgba(0, 0, 0, 0.3));\n",
              "      fill: #FFFFFF;\n",
              "    }\n",
              "  </style>\n",
              "\n",
              "      <script>\n",
              "        const buttonEl =\n",
              "          document.querySelector('#df-a7fe8d71-41cf-4f07-b5e5-2c958b4c92d9 button.colab-df-convert');\n",
              "        buttonEl.style.display =\n",
              "          google.colab.kernel.accessAllowed ? 'block' : 'none';\n",
              "\n",
              "        async function convertToInteractive(key) {\n",
              "          const element = document.querySelector('#df-a7fe8d71-41cf-4f07-b5e5-2c958b4c92d9');\n",
              "          const dataTable =\n",
              "            await google.colab.kernel.invokeFunction('convertToInteractive',\n",
              "                                                     [key], {});\n",
              "          if (!dataTable) return;\n",
              "\n",
              "          const docLinkHtml = 'Like what you see? Visit the ' +\n",
              "            '<a target=\"_blank\" href=https://colab.research.google.com/notebooks/data_table.ipynb>data table notebook</a>'\n",
              "            + ' to learn more about interactive tables.';\n",
              "          element.innerHTML = '';\n",
              "          dataTable['output_type'] = 'display_data';\n",
              "          await google.colab.output.renderOutput(dataTable, element);\n",
              "          const docLink = document.createElement('div');\n",
              "          docLink.innerHTML = docLinkHtml;\n",
              "          element.appendChild(docLink);\n",
              "        }\n",
              "      </script>\n",
              "    </div>\n",
              "  </div>\n",
              "  "
            ]
          },
          "metadata": {},
          "execution_count": 15
        }
      ]
    },
    {
      "cell_type": "markdown",
      "metadata": {
        "id": "WWSwR3Rb03Xm"
      },
      "source": [
        "4)Mean values on Indirect features"
      ]
    },
    {
      "cell_type": "code",
      "metadata": {
        "colab": {
          "base_uri": "https://localhost:8080/",
          "height": 176
        },
        "id": "RaNoXaCh0oIm",
        "outputId": "a4ccbb83-0566-422e-8013-a72ff59fcf1b"
      },
      "source": [
        "data.groupby(['sentiment'],as_index=False).mean()"
      ],
      "execution_count": 16,
      "outputs": [
        {
          "output_type": "execute_result",
          "data": {
            "text/plain": [
              "   sentiment  count_sent  count_word  count_unique_word  count_letters  \\\n",
              "0          0         1.0   229.46456           152.2662     1294.06436   \n",
              "1          1         1.0   232.84932           152.0156     1324.79768   \n",
              "\n",
              "   count_punctuations  count_words_upper  count_words_title  count_stopwords  \\\n",
              "0            53.59836            5.14632           24.72780        103.38132   \n",
              "1            51.55876            4.56928           27.96804        104.31900   \n",
              "\n",
              "   mean_word_len  word_unique_percent  punct_percent  \n",
              "0       4.623461            70.896372      23.447622  \n",
              "1       4.657892            70.164729      22.077985  "
            ],
            "text/html": [
              "\n",
              "  <div id=\"df-94eaeb1b-d364-4f28-a95c-3de8fc3db99a\">\n",
              "    <div class=\"colab-df-container\">\n",
              "      <div>\n",
              "<style scoped>\n",
              "    .dataframe tbody tr th:only-of-type {\n",
              "        vertical-align: middle;\n",
              "    }\n",
              "\n",
              "    .dataframe tbody tr th {\n",
              "        vertical-align: top;\n",
              "    }\n",
              "\n",
              "    .dataframe thead th {\n",
              "        text-align: right;\n",
              "    }\n",
              "</style>\n",
              "<table border=\"1\" class=\"dataframe\">\n",
              "  <thead>\n",
              "    <tr style=\"text-align: right;\">\n",
              "      <th></th>\n",
              "      <th>sentiment</th>\n",
              "      <th>count_sent</th>\n",
              "      <th>count_word</th>\n",
              "      <th>count_unique_word</th>\n",
              "      <th>count_letters</th>\n",
              "      <th>count_punctuations</th>\n",
              "      <th>count_words_upper</th>\n",
              "      <th>count_words_title</th>\n",
              "      <th>count_stopwords</th>\n",
              "      <th>mean_word_len</th>\n",
              "      <th>word_unique_percent</th>\n",
              "      <th>punct_percent</th>\n",
              "    </tr>\n",
              "  </thead>\n",
              "  <tbody>\n",
              "    <tr>\n",
              "      <th>0</th>\n",
              "      <td>0</td>\n",
              "      <td>1.0</td>\n",
              "      <td>229.46456</td>\n",
              "      <td>152.2662</td>\n",
              "      <td>1294.06436</td>\n",
              "      <td>53.59836</td>\n",
              "      <td>5.14632</td>\n",
              "      <td>24.72780</td>\n",
              "      <td>103.38132</td>\n",
              "      <td>4.623461</td>\n",
              "      <td>70.896372</td>\n",
              "      <td>23.447622</td>\n",
              "    </tr>\n",
              "    <tr>\n",
              "      <th>1</th>\n",
              "      <td>1</td>\n",
              "      <td>1.0</td>\n",
              "      <td>232.84932</td>\n",
              "      <td>152.0156</td>\n",
              "      <td>1324.79768</td>\n",
              "      <td>51.55876</td>\n",
              "      <td>4.56928</td>\n",
              "      <td>27.96804</td>\n",
              "      <td>104.31900</td>\n",
              "      <td>4.657892</td>\n",
              "      <td>70.164729</td>\n",
              "      <td>22.077985</td>\n",
              "    </tr>\n",
              "  </tbody>\n",
              "</table>\n",
              "</div>\n",
              "      <button class=\"colab-df-convert\" onclick=\"convertToInteractive('df-94eaeb1b-d364-4f28-a95c-3de8fc3db99a')\"\n",
              "              title=\"Convert this dataframe to an interactive table.\"\n",
              "              style=\"display:none;\">\n",
              "        \n",
              "  <svg xmlns=\"http://www.w3.org/2000/svg\" height=\"24px\"viewBox=\"0 0 24 24\"\n",
              "       width=\"24px\">\n",
              "    <path d=\"M0 0h24v24H0V0z\" fill=\"none\"/>\n",
              "    <path d=\"M18.56 5.44l.94 2.06.94-2.06 2.06-.94-2.06-.94-.94-2.06-.94 2.06-2.06.94zm-11 1L8.5 8.5l.94-2.06 2.06-.94-2.06-.94L8.5 2.5l-.94 2.06-2.06.94zm10 10l.94 2.06.94-2.06 2.06-.94-2.06-.94-.94-2.06-.94 2.06-2.06.94z\"/><path d=\"M17.41 7.96l-1.37-1.37c-.4-.4-.92-.59-1.43-.59-.52 0-1.04.2-1.43.59L10.3 9.45l-7.72 7.72c-.78.78-.78 2.05 0 2.83L4 21.41c.39.39.9.59 1.41.59.51 0 1.02-.2 1.41-.59l7.78-7.78 2.81-2.81c.8-.78.8-2.07 0-2.86zM5.41 20L4 18.59l7.72-7.72 1.47 1.35L5.41 20z\"/>\n",
              "  </svg>\n",
              "      </button>\n",
              "      \n",
              "  <style>\n",
              "    .colab-df-container {\n",
              "      display:flex;\n",
              "      flex-wrap:wrap;\n",
              "      gap: 12px;\n",
              "    }\n",
              "\n",
              "    .colab-df-convert {\n",
              "      background-color: #E8F0FE;\n",
              "      border: none;\n",
              "      border-radius: 50%;\n",
              "      cursor: pointer;\n",
              "      display: none;\n",
              "      fill: #1967D2;\n",
              "      height: 32px;\n",
              "      padding: 0 0 0 0;\n",
              "      width: 32px;\n",
              "    }\n",
              "\n",
              "    .colab-df-convert:hover {\n",
              "      background-color: #E2EBFA;\n",
              "      box-shadow: 0px 1px 2px rgba(60, 64, 67, 0.3), 0px 1px 3px 1px rgba(60, 64, 67, 0.15);\n",
              "      fill: #174EA6;\n",
              "    }\n",
              "\n",
              "    [theme=dark] .colab-df-convert {\n",
              "      background-color: #3B4455;\n",
              "      fill: #D2E3FC;\n",
              "    }\n",
              "\n",
              "    [theme=dark] .colab-df-convert:hover {\n",
              "      background-color: #434B5C;\n",
              "      box-shadow: 0px 1px 3px 1px rgba(0, 0, 0, 0.15);\n",
              "      filter: drop-shadow(0px 1px 2px rgba(0, 0, 0, 0.3));\n",
              "      fill: #FFFFFF;\n",
              "    }\n",
              "  </style>\n",
              "\n",
              "      <script>\n",
              "        const buttonEl =\n",
              "          document.querySelector('#df-94eaeb1b-d364-4f28-a95c-3de8fc3db99a button.colab-df-convert');\n",
              "        buttonEl.style.display =\n",
              "          google.colab.kernel.accessAllowed ? 'block' : 'none';\n",
              "\n",
              "        async function convertToInteractive(key) {\n",
              "          const element = document.querySelector('#df-94eaeb1b-d364-4f28-a95c-3de8fc3db99a');\n",
              "          const dataTable =\n",
              "            await google.colab.kernel.invokeFunction('convertToInteractive',\n",
              "                                                     [key], {});\n",
              "          if (!dataTable) return;\n",
              "\n",
              "          const docLinkHtml = 'Like what you see? Visit the ' +\n",
              "            '<a target=\"_blank\" href=https://colab.research.google.com/notebooks/data_table.ipynb>data table notebook</a>'\n",
              "            + ' to learn more about interactive tables.';\n",
              "          element.innerHTML = '';\n",
              "          dataTable['output_type'] = 'display_data';\n",
              "          await google.colab.output.renderOutput(dataTable, element);\n",
              "          const docLink = document.createElement('div');\n",
              "          docLink.innerHTML = docLinkHtml;\n",
              "          element.appendChild(docLink);\n",
              "        }\n",
              "      </script>\n",
              "    </div>\n",
              "  </div>\n",
              "  "
            ]
          },
          "metadata": {},
          "execution_count": 16
        }
      ]
    },
    {
      "cell_type": "markdown",
      "metadata": {
        "id": "RGGo0CxG1DaT"
      },
      "source": [
        "5) Histogram for word count for both classes"
      ]
    },
    {
      "cell_type": "code",
      "metadata": {
        "colab": {
          "base_uri": "https://localhost:8080/",
          "height": 545
        },
        "id": "a4548hXI08Fo",
        "outputId": "24cf0589-5229-479c-cab0-ee9419c0e557"
      },
      "source": [
        "plt.hist(data[data['sentiment']==0]['count_word'],range=(0,2000),color='SkyBlue')\n",
        "plt.title('Nagative Reviews')\n",
        "plt.show()\n",
        "\n",
        "plt.hist(data[data['sentiment']==1]['count_word'],range=(0,2000),color='PeachPuff')\n",
        "plt.title('Postive Reviews')\n",
        "plt.show()"
      ],
      "execution_count": 17,
      "outputs": [
        {
          "output_type": "display_data",
          "data": {
            "text/plain": [
              "<Figure size 432x288 with 1 Axes>"
            ],
            "image/png": "[encoded data removed]"
          },
          "metadata": {
            "needs_background": "light"
          }
        },
        {
          "output_type": "display_data",
          "data": {
            "text/plain": [
              "<Figure size 432x288 with 1 Axes>"
            ],
            "image/png": "[encoded data removed]"
          },
          "metadata": {
            "needs_background": "light"
          }
        }
      ]
    },
    {
      "cell_type": "markdown",
      "metadata": {
        "id": "3MEniwCs1KMV"
      },
      "source": [
        "## Text Preprocessing of Reviews"
      ]
    },
    {
      "cell_type": "code",
      "metadata": {
        "id": "GNlnqKsY2N5V"
      },
      "source": [
        "# Removing all punctuations from Text\n",
        "mapping = {\"ain't\": \"is not\", \"aren't\": \"are not\",\"can't\": \"cannot\", \"'cause\": \"because\", \"could've\": \"could have\", \"couldn't\": \"could not\", \"didn't\": \"did not\",  \"doesn't\": \"does not\", \"don't\": \"do not\", \"hadn't\": \"had not\", \"hasn't\": \"has not\", \"haven't\": \"have not\", \"he'd\": \"he would\",\"he'll\": \"he will\", \"he's\": \"he is\", \"how'd\": \"how did\", \"how'd'y\": \"how do you\", \"how'll\": \"how will\", \"how's\": \"how is\",  \"I'd\": \"I would\", \"I'd've\": \"I would have\", \"I'll\": \"I will\", \"I'll've\": \"I will have\",\"I'm\": \"I am\", \"I've\": \"I have\", \"i'd\": \"i would\", \"i'd've\": \"i would have\", \"i'll\": \"i will\",  \"i'll've\": \"i will have\",\"i'm\": \"i am\", \"i've\": \"i have\", \"isn't\": \"is not\", \"it'd\": \"it would\", \"it'd've\": \"it would have\", \"it'll\": \"it will\", \"it'll've\": \"it will have\",\"it's\": \"it is\", \"let's\": \"let us\", \"ma'am\": \"madam\", \"mayn't\": \"may not\", \"might've\": \"might have\",\"mightn't\": \"might not\",\"mightn't've\": \"might not have\", \"must've\": \"must have\", \"mustn't\": \"must not\", \"mustn't've\": \"must not have\", \"needn't\": \"need not\", \"needn't've\": \"need not have\",\"o'clock\": \"of the clock\", \"oughtn't\": \"ought not\", \"oughtn't've\": \"ought not have\", \"shan't\": \"shall not\", \"sha'n't\": \"shall not\", \"shan't've\": \"shall not have\", \"she'd\": \"she would\", \"she'd've\": \"she would have\", \"she'll\": \"she will\", \"she'll've\": \"she will have\", \"she's\": \"she is\", \"should've\": \"should have\", \"shouldn't\": \"should not\", \"shouldn't've\": \"should not have\", \"so've\": \"so have\",\"so's\": \"so as\", \"this's\": \"this is\",\"that'd\": \"that would\", \"that'd've\": \"that would have\", \"that's\": \"that is\", \"there'd\": \"there would\", \"there'd've\": \"there would have\", \"there's\": \"there is\", \"here's\": \"here is\",\"they'd\": \"they would\", \"they'd've\": \"they would have\", \"they'll\": \"they will\", \"they'll've\": \"they will have\", \"they're\": \"they are\", \"they've\": \"they have\", \"to've\": \"to have\", \"wasn't\": \"was not\", \"we'd\": \"we would\", \"we'd've\": \"we would have\", \"we'll\": \"we will\", \"we'll've\": \"we will have\", \"we're\": \"we are\", \"we've\": \"we have\", \"weren't\": \"were not\", \"what'll\": \"what will\", \"what'll've\": \"what will have\", \"what're\": \"what are\",  \"what's\": \"what is\", \"what've\": \"what have\", \"when's\": \"when is\", \"when've\": \"when have\", \"where'd\": \"where did\", \"where's\": \"where is\", \"where've\": \"where have\", \"who'll\": \"who will\", \"who'll've\": \"who will have\", \"who's\": \"who is\", \"who've\": \"who have\", \"why's\": \"why is\", \"why've\": \"why have\", \"will've\": \"will have\", \"won't\": \"will not\", \"won't've\": \"will not have\", \"would've\": \"would have\", \"wouldn't\": \"would not\", \"wouldn't've\": \"would not have\", \"y'all\": \"you all\", \"y'all'd\": \"you all would\",\"y'all'd've\": \"you all would have\",\"y'all're\": \"you all are\",\"y'all've\": \"you all have\",\"you'd\": \"you would\", \"you'd've\": \"you would have\", \"you'll\": \"you will\", \"you'll've\": \"you will have\", \"you're\": \"you are\", \"you've\": \"you have\" }\n",
        "PUNCT_TO_REMOVE = string.punctuation\n",
        "def remove_punctuation(text):\n",
        "    return text.translate(str.maketrans('', '', PUNCT_TO_REMOVE))\n",
        "\n",
        "def clean_contractions(text, mapping):\n",
        "    specials = [\"’\", \"‘\", \"´\", \"`\"]\n",
        "    for s in specials:\n",
        "        text = text.replace(s, \"'\")\n",
        "    text = ' '.join([mapping[t] if t in mapping else t for t in text.split(\" \")])\n",
        "    return text\n",
        "\n",
        "from nltk.corpus import stopwords\n",
        "STOPWORDS = set(stopwords.words('english'))\n",
        "def remove_stopwords(text):\n",
        "    return \" \".join([word for word in str(text).split() if word not in STOPWORDS])\n",
        "\n",
        "def word_replace(text):\n",
        "    return text.replace('<br />','')\n",
        "\n",
        "\n",
        "from nltk.stem.porter import PorterStemmer\n",
        "stemmer = PorterStemmer()\n",
        "def stem_words(text):\n",
        "    return \" \".join([stemmer.stem(word) for word in text.split()])\n",
        "\n",
        "\n",
        "from nltk.stem import WordNetLemmatizer\n",
        "lemmatizer = WordNetLemmatizer()\n",
        "def lemmatize_words(text):\n",
        "    return \" \".join([lemmatizer.lemmatize(word) for word in text.split()])\n",
        "\n",
        "\n",
        "\n",
        "def remove_urls(text):\n",
        "    url_pattern = re.compile(r'https?://\\S+|www\\.\\S+')\n",
        "    return url_pattern.sub(r'', text)\n",
        "\n",
        "\n",
        "def remove_html(text):\n",
        "    html_pattern = re.compile('<.*?>')\n",
        "    return html_pattern.sub(r'', text)\n",
        "\n",
        "def preprocess(text):\n",
        "    text=clean_contractions(text,mapping)\n",
        "    text=text.lower()\n",
        "    text=word_replace(text)\n",
        "    text=remove_urls(text)\n",
        "    text=remove_html(text)\n",
        "    text=remove_stopwords(text)\n",
        "    text=remove_punctuation(text)\n",
        "#     text=stem_words(text) ## Takes too much of t\n",
        "    text=lemmatize_words(text)\n",
        "    \n",
        "    return text"
      ],
      "execution_count": 18,
      "outputs": []
    },
    {
      "cell_type": "code",
      "metadata": {
        "colab": {
          "base_uri": "https://localhost:8080/",
          "height": 686
        },
        "id": "x3dF_-Q72rl_",
        "outputId": "4f3736d9-fb41-4b28-d50b-3009042f7ea5"
      },
      "source": [
        "data[\"reviews_p\"] = data[\"review\"].apply(lambda text: preprocess(text))\n",
        "data.head()"
      ],
      "execution_count": 19,
      "outputs": [
        {
          "output_type": "execute_result",
          "data": {
            "text/plain": [
              "                                              review  count_sent  count_word  \\\n",
              "0  One of the other reviewers has mentioned that ...           1         307   \n",
              "1  A wonderful little production. <br /><br />The...           1         162   \n",
              "2  I thought this was a wonderful way to spend ti...           1         166   \n",
              "3  Basically there's a family where a little boy ...           1         138   \n",
              "4  Petter Mattei's \"Love in the Time of Money\" is...           1         230   \n",
              "\n",
              "   count_unique_word  count_letters  count_punctuations  count_words_upper  \\\n",
              "0                208           1761                  78                  8   \n",
              "1                114            998                  44                  2   \n",
              "2                121            926                  40                  3   \n",
              "3                 96            748                  42                  3   \n",
              "4                152           1317                  56                  1   \n",
              "\n",
              "   count_words_title  count_stopwords  mean_word_len  word_unique_percent  \\\n",
              "0                 36              133       4.739414            67.752443   \n",
              "1                 12               66       5.166667            70.370370   \n",
              "2                 20               76       4.584337            72.891566   \n",
              "3                 13               62       4.427536            69.565217   \n",
              "4                 31               96       4.730435            66.086957   \n",
              "\n",
              "   punct_percent  sentiment                                          reviews_p  \n",
              "0      25.407166          1  one reviewer mentioned watching 1 oz episode h...  \n",
              "1      27.160494          1  wonderful little production filming technique ...  \n",
              "2      24.096386          1  thought wonderful way spend time hot summer we...  \n",
              "3      30.434783          0  basically family little boy jake think zombie ...  \n",
              "4      24.347826          1  petter matteis love time money visually stunni...  "
            ],
            "text/html": [
              "\n",
              "  <div id=\"df-843f41dd-7c85-4edd-b166-04a85db7e922\">\n",
              "    <div class=\"colab-df-container\">\n",
              "      <div>\n",
              "<style scoped>\n",
              "    .dataframe tbody tr th:only-of-type {\n",
              "        vertical-align: middle;\n",
              "    }\n",
              "\n",
              "    .dataframe tbody tr th {\n",
              "        vertical-align: top;\n",
              "    }\n",
              "\n",
              "    .dataframe thead th {\n",
              "        text-align: right;\n",
              "    }\n",
              "</style>\n",
              "<table border=\"1\" class=\"dataframe\">\n",
              "  <thead>\n",
              "    <tr style=\"text-align: right;\">\n",
              "      <th></th>\n",
              "      <th>review</th>\n",
              "      <th>count_sent</th>\n",
              "      <th>count_word</th>\n",
              "      <th>count_unique_word</th>\n",
              "      <th>count_letters</th>\n",
              "      <th>count_punctuations</th>\n",
              "      <th>count_words_upper</th>\n",
              "      <th>count_words_title</th>\n",
              "      <th>count_stopwords</th>\n",
              "      <th>mean_word_len</th>\n",
              "      <th>word_unique_percent</th>\n",
              "      <th>punct_percent</th>\n",
              "      <th>sentiment</th>\n",
              "      <th>reviews_p</th>\n",
              "    </tr>\n",
              "  </thead>\n",
              "  <tbody>\n",
              "    <tr>\n",
              "      <th>0</th>\n",
              "      <td>One of the other reviewers has mentioned that ...</td>\n",
              "      <td>1</td>\n",
              "      <td>307</td>\n",
              "      <td>208</td>\n",
              "      <td>1761</td>\n",
              "      <td>78</td>\n",
              "      <td>8</td>\n",
              "      <td>36</td>\n",
              "      <td>133</td>\n",
              "      <td>4.739414</td>\n",
              "      <td>67.752443</td>\n",
              "      <td>25.407166</td>\n",
              "      <td>1</td>\n",
              "      <td>one reviewer mentioned watching 1 oz episode h...</td>\n",
              "    </tr>\n",
              "    <tr>\n",
              "      <th>1</th>\n",
              "      <td>A wonderful little production. &lt;br /&gt;&lt;br /&gt;The...</td>\n",
              "      <td>1</td>\n",
              "      <td>162</td>\n",
              "      <td>114</td>\n",
              "      <td>998</td>\n",
              "      <td>44</td>\n",
              "      <td>2</td>\n",
              "      <td>12</td>\n",
              "      <td>66</td>\n",
              "      <td>5.166667</td>\n",
              "      <td>70.370370</td>\n",
              "      <td>27.160494</td>\n",
              "      <td>1</td>\n",
              "      <td>wonderful little production filming technique ...</td>\n",
              "    </tr>\n",
              "    <tr>\n",
              "      <th>2</th>\n",
              "      <td>I thought this was a wonderful way to spend ti...</td>\n",
              "      <td>1</td>\n",
              "      <td>166</td>\n",
              "      <td>121</td>\n",
              "      <td>926</td>\n",
              "      <td>40</td>\n",
              "      <td>3</td>\n",
              "      <td>20</td>\n",
              "      <td>76</td>\n",
              "      <td>4.584337</td>\n",
              "      <td>72.891566</td>\n",
              "      <td>24.096386</td>\n",
              "      <td>1</td>\n",
              "      <td>thought wonderful way spend time hot summer we...</td>\n",
              "    </tr>\n",
              "    <tr>\n",
              "      <th>3</th>\n",
              "      <td>Basically there's a family where a little boy ...</td>\n",
              "      <td>1</td>\n",
              "      <td>138</td>\n",
              "      <td>96</td>\n",
              "      <td>748</td>\n",
              "      <td>42</td>\n",
              "      <td>3</td>\n",
              "      <td>13</td>\n",
              "      <td>62</td>\n",
              "      <td>4.427536</td>\n",
              "      <td>69.565217</td>\n",
              "      <td>30.434783</td>\n",
              "      <td>0</td>\n",
              "      <td>basically family little boy jake think zombie ...</td>\n",
              "    </tr>\n",
              "    <tr>\n",
              "      <th>4</th>\n",
              "      <td>Petter Mattei's \"Love in the Time of Money\" is...</td>\n",
              "      <td>1</td>\n",
              "      <td>230</td>\n",
              "      <td>152</td>\n",
              "      <td>1317</td>\n",
              "      <td>56</td>\n",
              "      <td>1</td>\n",
              "      <td>31</td>\n",
              "      <td>96</td>\n",
              "      <td>4.730435</td>\n",
              "      <td>66.086957</td>\n",
              "      <td>24.347826</td>\n",
              "      <td>1</td>\n",
              "      <td>petter matteis love time money visually stunni...</td>\n",
              "    </tr>\n",
              "  </tbody>\n",
              "</table>\n",
              "</div>\n",
              "      <button class=\"colab-df-convert\" onclick=\"convertToInteractive('df-843f41dd-7c85-4edd-b166-04a85db7e922')\"\n",
              "              title=\"Convert this dataframe to an interactive table.\"\n",
              "              style=\"display:none;\">\n",
              "        \n",
              "  <svg xmlns=\"http://www.w3.org/2000/svg\" height=\"24px\"viewBox=\"0 0 24 24\"\n",
              "       width=\"24px\">\n",
              "    <path d=\"M0 0h24v24H0V0z\" fill=\"none\"/>\n",
              "    <path d=\"M18.56 5.44l.94 2.06.94-2.06 2.06-.94-2.06-.94-.94-2.06-.94 2.06-2.06.94zm-11 1L8.5 8.5l.94-2.06 2.06-.94-2.06-.94L8.5 2.5l-.94 2.06-2.06.94zm10 10l.94 2.06.94-2.06 2.06-.94-2.06-.94-.94-2.06-.94 2.06-2.06.94z\"/><path d=\"M17.41 7.96l-1.37-1.37c-.4-.4-.92-.59-1.43-.59-.52 0-1.04.2-1.43.59L10.3 9.45l-7.72 7.72c-.78.78-.78 2.05 0 2.83L4 21.41c.39.39.9.59 1.41.59.51 0 1.02-.2 1.41-.59l7.78-7.78 2.81-2.81c.8-.78.8-2.07 0-2.86zM5.41 20L4 18.59l7.72-7.72 1.47 1.35L5.41 20z\"/>\n",
              "  </svg>\n",
              "      </button>\n",
              "      \n",
              "  <style>\n",
              "    .colab-df-container {\n",
              "      display:flex;\n",
              "      flex-wrap:wrap;\n",
              "      gap: 12px;\n",
              "    }\n",
              "\n",
              "    .colab-df-convert {\n",
              "      background-color: #E8F0FE;\n",
              "      border: none;\n",
              "      border-radius: 50%;\n",
              "      cursor: pointer;\n",
              "      display: none;\n",
              "      fill: #1967D2;\n",
              "      height: 32px;\n",
              "      padding: 0 0 0 0;\n",
              "      width: 32px;\n",
              "    }\n",
              "\n",
              "    .colab-df-convert:hover {\n",
              "      background-color: #E2EBFA;\n",
              "      box-shadow: 0px 1px 2px rgba(60, 64, 67, 0.3), 0px 1px 3px 1px rgba(60, 64, 67, 0.15);\n",
              "      fill: #174EA6;\n",
              "    }\n",
              "\n",
              "    [theme=dark] .colab-df-convert {\n",
              "      background-color: #3B4455;\n",
              "      fill: #D2E3FC;\n",
              "    }\n",
              "\n",
              "    [theme=dark] .colab-df-convert:hover {\n",
              "      background-color: #434B5C;\n",
              "      box-shadow: 0px 1px 3px 1px rgba(0, 0, 0, 0.15);\n",
              "      filter: drop-shadow(0px 1px 2px rgba(0, 0, 0, 0.3));\n",
              "      fill: #FFFFFF;\n",
              "    }\n",
              "  </style>\n",
              "\n",
              "      <script>\n",
              "        const buttonEl =\n",
              "          document.querySelector('#df-843f41dd-7c85-4edd-b166-04a85db7e922 button.colab-df-convert');\n",
              "        buttonEl.style.display =\n",
              "          google.colab.kernel.accessAllowed ? 'block' : 'none';\n",
              "\n",
              "        async function convertToInteractive(key) {\n",
              "          const element = document.querySelector('#df-843f41dd-7c85-4edd-b166-04a85db7e922');\n",
              "          const dataTable =\n",
              "            await google.colab.kernel.invokeFunction('convertToInteractive',\n",
              "                                                     [key], {});\n",
              "          if (!dataTable) return;\n",
              "\n",
              "          const docLinkHtml = 'Like what you see? Visit the ' +\n",
              "            '<a target=\"_blank\" href=https://colab.research.google.com/notebooks/data_table.ipynb>data table notebook</a>'\n",
              "            + ' to learn more about interactive tables.';\n",
              "          element.innerHTML = '';\n",
              "          dataTable['output_type'] = 'display_data';\n",
              "          await google.colab.output.renderOutput(dataTable, element);\n",
              "          const docLink = document.createElement('div');\n",
              "          docLink.innerHTML = docLinkHtml;\n",
              "          element.appendChild(docLink);\n",
              "        }\n",
              "      </script>\n",
              "    </div>\n",
              "  </div>\n",
              "  "
            ]
          },
          "metadata": {},
          "execution_count": 19
        }
      ]
    },
    {
      "cell_type": "markdown",
      "metadata": {
        "id": "t7guFw8Y3KgQ"
      },
      "source": [
        "Utility Function"
      ]
    },
    {
      "cell_type": "code",
      "metadata": {
        "id": "z5IUEO1J3JLn"
      },
      "source": [
        "def metrics(model,x,y):\n",
        "    y_pred = model.predict(x)\n",
        "    acc = accuracy_score(y, y_pred)\n",
        "    f1=f1_score(y, y_pred)\n",
        "    cm=confusion_matrix(y, y_pred)\n",
        "    report=classification_report(y,y_pred)\n",
        "    plt.figure(figsize=(4,4))\n",
        "    sns.heatmap(cm,annot=True,cmap='coolwarm',xticklabels=[0,1],fmt='d',annot_kws={\"fontsize\":19})\n",
        "    plt.xlabel(\"Predicted\",fontsize=16)\n",
        "    plt.ylabel(\"Actual\",fontsize=16)\n",
        "    plt.show()\n",
        "    print(\"\\nAccuracy: \",round(acc,2))\n",
        "    print(\"\\nF1 Score: \",round(f1,2))\n",
        "#     print(\"\\nConfusion Matrix: \\n\",cm)\n",
        "    print(\"\\nReport:\",report)\n",
        "    "
      ],
      "execution_count": 20,
      "outputs": []
    },
    {
      "cell_type": "markdown",
      "metadata": {
        "id": "YVnNvlo93Q0Y"
      },
      "source": [
        "Model based on Indirect Features\n"
      ]
    },
    {
      "cell_type": "code",
      "metadata": {
        "id": "vEO7cnU83Plw"
      },
      "source": [
        "X=data[['count_sent', 'count_word', 'count_unique_word',\n",
        "       'count_letters', 'count_punctuations', 'count_words_upper',\n",
        "       'count_words_title', 'count_stopwords', 'mean_word_len',\n",
        "       'word_unique_percent', 'punct_percent']]\n",
        "y=data['sentiment']"
      ],
      "execution_count": 21,
      "outputs": []
    },
    {
      "cell_type": "code",
      "metadata": {
        "id": "SHl7VbvV3YB6"
      },
      "source": [
        "X_train, X_test, y_train, y_test = train_test_split(X,y, test_size=0.2,random_state=0)"
      ],
      "execution_count": 22,
      "outputs": []
    },
    {
      "cell_type": "code",
      "metadata": {
        "colab": {
          "base_uri": "https://localhost:8080/"
        },
        "id": "Jf0wowMn3dbr",
        "outputId": "bab5b49e-3ee3-4c1a-eaf4-c9026c581381"
      },
      "source": [
        "[i.shape for i in [X_train, X_test, y_train, y_test] ]"
      ],
      "execution_count": 23,
      "outputs": [
        {
          "output_type": "execute_result",
          "data": {
            "text/plain": [
              "[(40000, 11), (10000, 11), (40000,), (10000,)]"
            ]
          },
          "metadata": {},
          "execution_count": 23
        }
      ]
    },
    {
      "cell_type": "code",
      "metadata": {
        "colab": {
          "base_uri": "https://localhost:8080/",
          "height": 582
        },
        "id": "fmPqWldS3ekL",
        "outputId": "777305ed-44ed-4b3b-f924-a46fbe6ed94b"
      },
      "source": [
        "# Logistic Regression with Indirect features\n",
        "classifier = LogisticRegression(C=0.1, solver='sag')\n",
        "classifier.fit(X_train, y_train)\n",
        "metrics(classifier,X_test,y_test)"
      ],
      "execution_count": 24,
      "outputs": [
        {
          "output_type": "stream",
          "name": "stderr",
          "text": [
            "/usr/local/lib/python3.7/dist-packages/sklearn/linear_model/_sag.py:354: ConvergenceWarning: The max_iter was reached which means the coef_ did not converge\n",
            "  ConvergenceWarning,\n"
          ]
        },
        {
          "output_type": "display_data",
          "data": {
            "text/plain": [
              "<Figure size 288x288 with 2 Axes>"
            ],
            "image/png": "[encoded data removed]"
          },
          "metadata": {
            "needs_background": "light"
          }
        },
        {
          "output_type": "stream",
          "name": "stdout",
          "text": [
            "\n",
            "Accuracy:  0.58\n",
            "\n",
            "F1 Score:  0.57\n",
            "\n",
            "Report:               precision    recall  f1-score   support\n",
            "\n",
            "           0       0.58      0.61      0.59      5035\n",
            "           1       0.58      0.55      0.57      4965\n",
            "\n",
            "    accuracy                           0.58     10000\n",
            "   macro avg       0.58      0.58      0.58     10000\n",
            "weighted avg       0.58      0.58      0.58     10000\n",
            "\n"
          ]
        }
      ]
    },
    {
      "cell_type": "markdown",
      "metadata": {
        "id": "JzSMESRP3n_n"
      },
      "source": [
        "## Unsupervised- Pre-trained model- TextBlob"
      ]
    },
    {
      "cell_type": "code",
      "metadata": {
        "id": "vICoXiU_3h06"
      },
      "source": [
        "from textblob import TextBlob\n",
        "def get_sentiment( tweet):\n",
        "        analysis = TextBlob(tweet)\n",
        "      \n",
        "        if analysis.sentiment.polarity > 0:\n",
        "            return 'positive'\n",
        "        else:\n",
        "            return 'negative'"
      ],
      "execution_count": 25,
      "outputs": []
    },
    {
      "cell_type": "code",
      "metadata": {
        "id": "roLjvBQH3wII"
      },
      "source": [
        "data['TextBlob']=data['reviews_p'].apply(lambda x: get_sentiment(x))"
      ],
      "execution_count": 26,
      "outputs": []
    },
    {
      "cell_type": "code",
      "metadata": {
        "colab": {
          "base_uri": "https://localhost:8080/"
        },
        "id": "5Lp21X0R3yyn",
        "outputId": "3c736a3e-ac66-418c-df00-094f0f115021"
      },
      "source": [
        "print(data.TextBlob.value_counts())\n",
        "print(\"\\n\",data.sentiment.value_counts())"
      ],
      "execution_count": 27,
      "outputs": [
        {
          "output_type": "stream",
          "name": "stdout",
          "text": [
            "positive    36959\n",
            "negative    13041\n",
            "Name: TextBlob, dtype: int64\n",
            "\n",
            " 1    25000\n",
            "0    25000\n",
            "Name: sentiment, dtype: int64\n"
          ]
        }
      ]
    },
    {
      "cell_type": "code",
      "metadata": {
        "colab": {
          "base_uri": "https://localhost:8080/"
        },
        "id": "RBggF9KC31c5",
        "outputId": "36d07383-e7fb-4afe-a9d4-ddffeaa6db24"
      },
      "source": [
        "data['TextBlob1']=data.TextBlob.apply(lambda x: 0 if x=='negative' else 1)\n",
        "accuracy_score(data.sentiment,data.TextBlob1)"
      ],
      "execution_count": 28,
      "outputs": [
        {
          "output_type": "execute_result",
          "data": {
            "text/plain": [
              "0.69598"
            ]
          },
          "metadata": {},
          "execution_count": 28
        }
      ]
    },
    {
      "cell_type": "code",
      "metadata": {
        "colab": {
          "base_uri": "https://localhost:8080/",
          "height": 284
        },
        "id": "wFjgMz8N34RH",
        "outputId": "abab1796-c74b-47d3-9b0e-b35b738db41b"
      },
      "source": [
        "plt.figure(figsize=(4,4))\n",
        "sns.heatmap(confusion_matrix(data.sentiment,data.TextBlob1),annot=True,cmap='coolwarm',xticklabels=[0,1],fmt='d',annot_kws={\"fontsize\":19})\n",
        "plt.xlabel(\"Predicted\",fontsize=16)\n",
        "plt.ylabel(\"Actual\",fontsize=16)\n",
        "plt.show()\n"
      ],
      "execution_count": 29,
      "outputs": [
        {
          "output_type": "display_data",
          "data": {
            "text/plain": [
              "<Figure size 288x288 with 2 Axes>"
            ],
            "image/png": "[encoded data removed]"
          },
          "metadata": {
            "needs_background": "light"
          }
        }
      ]
    },
    {
      "cell_type": "markdown",
      "metadata": {
        "id": "oNYohHZM5DGZ"
      },
      "source": [
        "N-gram analysis\n"
      ]
    },
    {
      "cell_type": "code",
      "metadata": {
        "id": "P5aLEnb849xq"
      },
      "source": [
        "texts = ' '.join(data['reviews_p'])"
      ],
      "execution_count": 30,
      "outputs": []
    },
    {
      "cell_type": "code",
      "metadata": {
        "id": "ae4pDk-x5Isb"
      },
      "source": [
        "string = texts.split(\" \")"
      ],
      "execution_count": 31,
      "outputs": []
    },
    {
      "cell_type": "code",
      "metadata": {
        "id": "pfUbO95C5Ko1"
      },
      "source": [
        "def draw_n_gram(string,i):\n",
        "    n_gram = (pd.Series(nltk.ngrams(string, i)).value_counts())[:7]\n",
        "    n_gram_df=pd.DataFrame(n_gram)\n",
        "    n_gram_df = n_gram_df.reset_index()\n",
        "    n_gram_df = n_gram_df.rename(columns={\"index\": \"word\", 0: \"count\"})\n",
        "    print(n_gram_df.head())\n",
        "    plt.figure(figsize = (10,5))\n",
        "    return sns.barplot(x='count',y='word', data=n_gram_df)"
      ],
      "execution_count": 32,
      "outputs": []
    },
    {
      "cell_type": "markdown",
      "metadata": {
        "id": "NRZ4nFpo5Pdy"
      },
      "source": [
        "Unigram Analysis"
      ]
    },
    {
      "cell_type": "code",
      "metadata": {
        "colab": {
          "base_uri": "https://localhost:8080/",
          "height": 455
        },
        "id": "2GgXaZOZ5N8L",
        "outputId": "3c3b8919-e7d7-4d6f-f828-9b98abc0b6ed"
      },
      "source": [
        "draw_n_gram(string,1)"
      ],
      "execution_count": 33,
      "outputs": [
        {
          "output_type": "stream",
          "name": "stdout",
          "text": [
            "       word  count\n",
            "0  (movie,)  98938\n",
            "1   (film,)  89753\n",
            "2    (one,)  52648\n",
            "3   (like,)  39780\n",
            "4  (would,)  30291\n"
          ]
        },
        {
          "output_type": "execute_result",
          "data": {
            "text/plain": [
              "<matplotlib.axes._subplots.AxesSubplot at 0x7f5d85340790>"
            ]
          },
          "metadata": {},
          "execution_count": 33
        },
        {
          "output_type": "display_data",
          "data": {
            "text/plain": [
              "<Figure size 720x360 with 1 Axes>"
            ],
            "image/png": "[encoded data removed]"
          },
          "metadata": {
            "needs_background": "light"
          }
        }
      ]
    },
    {
      "cell_type": "markdown",
      "metadata": {
        "id": "NmLcakic5X0O"
      },
      "source": [
        "Bigram Analysis"
      ]
    },
    {
      "cell_type": "code",
      "metadata": {
        "colab": {
          "base_uri": "https://localhost:8080/",
          "height": 455
        },
        "id": "xO8ySNSF5VJD",
        "outputId": "4cc903be-8f6a-45ed-d852-98b007e70ac0"
      },
      "source": [
        "draw_n_gram(string,2)"
      ],
      "execution_count": 34,
      "outputs": [
        {
          "output_type": "stream",
          "name": "stdout",
          "text": [
            "                word  count\n",
            "0       (look, like)   2874\n",
            "1       (ever, seen)   2534\n",
            "2  (special, effect)   2198\n",
            "3      (movie, ever)   1937\n",
            "4  (main, character)   1875\n"
          ]
        },
        {
          "output_type": "execute_result",
          "data": {
            "text/plain": [
              "<matplotlib.axes._subplots.AxesSubplot at 0x7f5d6d871dd0>"
            ]
          },
          "metadata": {},
          "execution_count": 34
        },
        {
          "output_type": "display_data",
          "data": {
            "text/plain": [
              "<Figure size 720x360 with 1 Axes>"
            ],
            "image/png": "[encoded data removed]"
          },
          "metadata": {
            "needs_background": "light"
          }
        }
      ]
    },
    {
      "cell_type": "markdown",
      "metadata": {
        "id": "F6wjPxrU5eOJ"
      },
      "source": [
        "Trigram Analysis"
      ]
    },
    {
      "cell_type": "code",
      "metadata": {
        "colab": {
          "base_uri": "https://localhost:8080/",
          "height": 455
        },
        "id": "xAtkyqJg5be-",
        "outputId": "434abf26-a060-48cd-b479-f39c604e3173"
      },
      "source": [
        "draw_n_gram(string,3)"
      ],
      "execution_count": 35,
      "outputs": [
        {
          "output_type": "stream",
          "name": "stdout",
          "text": [
            "                   word  count\n",
            "0   (movie, ever, seen)    828\n",
            "1  (worst, movie, ever)    731\n",
            "2    (film, ever, seen)    413\n",
            "3   (worst, film, ever)    344\n",
            "4   (movie, ever, made)    337\n"
          ]
        },
        {
          "output_type": "execute_result",
          "data": {
            "text/plain": [
              "<matplotlib.axes._subplots.AxesSubplot at 0x7f5d6d880d10>"
            ]
          },
          "metadata": {},
          "execution_count": 35
        },
        {
          "output_type": "display_data",
          "data": {
            "text/plain": [
              "<Figure size 720x360 with 1 Axes>"
            ],
            "image/png": "[encoded data removed]"
          },
          "metadata": {
            "needs_background": "light"
          }
        }
      ]
    },
    {
      "cell_type": "markdown",
      "metadata": {
        "id": "YIftl5Wf5kSO"
      },
      "source": [
        "## Word Embedding:"
      ]
    },
    {
      "cell_type": "code",
      "metadata": {
        "id": "DRJwtZoQ5itv"
      },
      "source": [
        "X_train, X_test, y_train, y_test = train_test_split(data['reviews_p'], data['sentiment'], test_size=0.2,random_state=0)"
      ],
      "execution_count": 36,
      "outputs": []
    },
    {
      "cell_type": "code",
      "metadata": {
        "colab": {
          "base_uri": "https://localhost:8080/"
        },
        "id": "ygh7kwWJ5oKF",
        "outputId": "9416a17a-57a9-41bc-faed-96a552bc43ad"
      },
      "source": [
        "[i.shape for i in [X_train, X_test, y_train, y_test] ]"
      ],
      "execution_count": 37,
      "outputs": [
        {
          "output_type": "execute_result",
          "data": {
            "text/plain": [
              "[(40000,), (10000,), (40000,), (10000,)]"
            ]
          },
          "metadata": {},
          "execution_count": 37
        }
      ]
    },
    {
      "cell_type": "markdown",
      "metadata": {
        "id": "N7pkN9hU5r7X"
      },
      "source": [
        "1) TF-IDF"
      ]
    },
    {
      "cell_type": "code",
      "metadata": {
        "id": "oPKQZRrc5ukG"
      },
      "source": [
        "word_vectorizer = TfidfVectorizer(\n",
        "    sublinear_tf=True,\n",
        "    strip_accents='unicode',\n",
        "    analyzer='word',\n",
        "    token_pattern=r'\\w{1,}',\n",
        "    stop_words='english',\n",
        "    ngram_range=(1, 3),\n",
        "    max_features=10000\n",
        ")\n",
        "\n",
        "word_vectorizer.fit(data['reviews_p'])\n",
        "\n",
        "tfidf_train = word_vectorizer.transform(X_train)\n",
        "tfidf_test = word_vectorizer.transform(X_test)"
      ],
      "execution_count": 38,
      "outputs": []
    },
    {
      "cell_type": "code",
      "metadata": {
        "colab": {
          "base_uri": "https://localhost:8080/"
        },
        "id": "WTVm7AMR5p_a",
        "outputId": "13d44128-93c9-4498-e3b7-08c519cd8754"
      },
      "source": [
        "# word_vectorizer.get_feature_names()\n",
        "print('Shape of tfidf_train:',tfidf_train.shape)\n",
        "print('Shape of tfidf_test:',tfidf_test.shape)"
      ],
      "execution_count": 39,
      "outputs": [
        {
          "output_type": "stream",
          "name": "stdout",
          "text": [
            "Shape of tfidf_train: (40000, 10000)\n",
            "Shape of tfidf_test: (10000, 10000)\n"
          ]
        }
      ]
    },
    {
      "cell_type": "markdown",
      "metadata": {
        "id": "bEZjABws5_Ke"
      },
      "source": [
        "Count Vectorizer"
      ]
    },
    {
      "cell_type": "code",
      "metadata": {
        "colab": {
          "base_uri": "https://localhost:8080/"
        },
        "id": "Muzitgmv59o4",
        "outputId": "d70628ca-7636-488d-febd-a0969b1313e5"
      },
      "source": [
        "cv=CountVectorizer(analyzer = 'word', token_pattern = r'\\w{1,}',ngram_range=(1,3),max_features=10000)\n",
        "cv.fit(data['reviews_p'])\n",
        "cv_train=cv.transform(X_train)\n",
        "cv_test=cv.transform(X_test)\n",
        "print('Shape of cv_train:',cv_train.shape)\n",
        "print('Shape of cv_test:',cv_test.shape)"
      ],
      "execution_count": 40,
      "outputs": [
        {
          "output_type": "stream",
          "name": "stdout",
          "text": [
            "Shape of cv_train: (40000, 10000)\n",
            "Shape of cv_test: (10000, 10000)\n"
          ]
        }
      ]
    },
    {
      "cell_type": "markdown",
      "metadata": {
        "id": "G_y_mDbl6GL7"
      },
      "source": [
        "## Machine Learning Models"
      ]
    },
    {
      "cell_type": "markdown",
      "metadata": {
        "id": "RtmL3J_f6KdH"
      },
      "source": [
        "## 1) Logistic Regression"
      ]
    },
    {
      "cell_type": "code",
      "metadata": {
        "colab": {
          "base_uri": "https://localhost:8080/",
          "height": 527
        },
        "id": "CllVkwZQ6Fl4",
        "outputId": "aead512d-dc98-4065-81b1-a307ff0b5484"
      },
      "source": [
        "# Logistic Regression with TF-IDF\n",
        "classifier = LogisticRegression(C=0.1, solver='sag')\n",
        "classifier.fit(tfidf_train, y_train)\n",
        "metrics(classifier,tfidf_test,y_test)"
      ],
      "execution_count": 41,
      "outputs": [
        {
          "output_type": "display_data",
          "data": {
            "text/plain": [
              "<Figure size 288x288 with 2 Axes>"
            ],
            "image/png": "[encoded data removed]"
          },
          "metadata": {
            "needs_background": "light"
          }
        },
        {
          "output_type": "stream",
          "name": "stdout",
          "text": [
            "\n",
            "Accuracy:  0.87\n",
            "\n",
            "F1 Score:  0.87\n",
            "\n",
            "Report:               precision    recall  f1-score   support\n",
            "\n",
            "           0       0.89      0.85      0.87      5035\n",
            "           1       0.85      0.89      0.87      4965\n",
            "\n",
            "    accuracy                           0.87     10000\n",
            "   macro avg       0.87      0.87      0.87     10000\n",
            "weighted avg       0.87      0.87      0.87     10000\n",
            "\n"
          ]
        }
      ]
    },
    {
      "cell_type": "code",
      "metadata": {
        "colab": {
          "base_uri": "https://localhost:8080/",
          "height": 666
        },
        "id": "MS6bFTUN6Tp4",
        "outputId": "7e4decc9-5abb-4b1e-a4af-8d5e42ea92ea"
      },
      "source": [
        "# Logistic Regression with Count Vectoriser\n",
        "classifier1 = LogisticRegression(penalty='l2',C=10)\n",
        "classifier1.fit(cv_train, y_train)\n",
        "\n",
        "metrics(classifier1,cv_test,y_test)"
      ],
      "execution_count": 42,
      "outputs": [
        {
          "output_type": "stream",
          "name": "stderr",
          "text": [
            "/usr/local/lib/python3.7/dist-packages/sklearn/linear_model/_logistic.py:818: ConvergenceWarning: lbfgs failed to converge (status=1):\n",
            "STOP: TOTAL NO. of ITERATIONS REACHED LIMIT.\n",
            "\n",
            "Increase the number of iterations (max_iter) or scale the data as shown in:\n",
            "    https://scikit-learn.org/stable/modules/preprocessing.html\n",
            "Please also refer to the documentation for alternative solver options:\n",
            "    https://scikit-learn.org/stable/modules/linear_model.html#logistic-regression\n",
            "  extra_warning_msg=_LOGISTIC_SOLVER_CONVERGENCE_MSG,\n"
          ]
        },
        {
          "output_type": "display_data",
          "data": {
            "text/plain": [
              "<Figure size 288x288 with 2 Axes>"
            ],
            "image/png": "[encoded data removed]"
          },
          "metadata": {
            "needs_background": "light"
          }
        },
        {
          "output_type": "stream",
          "name": "stdout",
          "text": [
            "\n",
            "Accuracy:  0.86\n",
            "\n",
            "F1 Score:  0.86\n",
            "\n",
            "Report:               precision    recall  f1-score   support\n",
            "\n",
            "           0       0.87      0.86      0.87      5035\n",
            "           1       0.86      0.87      0.86      4965\n",
            "\n",
            "    accuracy                           0.86     10000\n",
            "   macro avg       0.86      0.86      0.86     10000\n",
            "weighted avg       0.86      0.86      0.86     10000\n",
            "\n"
          ]
        }
      ]
    },
    {
      "cell_type": "markdown",
      "metadata": {
        "id": "AA4avRqG6d2-"
      },
      "source": [
        "## 2) Naive Bayes"
      ]
    },
    {
      "cell_type": "code",
      "metadata": {
        "colab": {
          "base_uri": "https://localhost:8080/",
          "height": 527
        },
        "id": "isYfG3Eb6Qyv",
        "outputId": "97d6965d-6c82-41e5-c52b-1de152811c4a"
      },
      "source": [
        "#Naive Bayes with tf_idf\n",
        "model= MultinomialNB()\n",
        "\n",
        "model.fit(tfidf_train, y_train)\n",
        "metrics(model,tfidf_test,y_test)"
      ],
      "execution_count": 43,
      "outputs": [
        {
          "output_type": "display_data",
          "data": {
            "text/plain": [
              "<Figure size 288x288 with 2 Axes>"
            ],
            "image/png": "[encoded data removed]"
          },
          "metadata": {
            "needs_background": "light"
          }
        },
        {
          "output_type": "stream",
          "name": "stdout",
          "text": [
            "\n",
            "Accuracy:  0.86\n",
            "\n",
            "F1 Score:  0.86\n",
            "\n",
            "Report:               precision    recall  f1-score   support\n",
            "\n",
            "           0       0.87      0.85      0.86      5035\n",
            "           1       0.85      0.87      0.86      4965\n",
            "\n",
            "    accuracy                           0.86     10000\n",
            "   macro avg       0.86      0.86      0.86     10000\n",
            "weighted avg       0.86      0.86      0.86     10000\n",
            "\n"
          ]
        }
      ]
    },
    {
      "cell_type": "code",
      "metadata": {
        "colab": {
          "base_uri": "https://localhost:8080/",
          "height": 527
        },
        "id": "eSjRLcuA6i7t",
        "outputId": "d68314d7-04db-4e9c-e6b8-0565f2bf7c32"
      },
      "source": [
        "#Naive Bayes with Count Vectorizer\n",
        "modela= MultinomialNB()\n",
        "\n",
        "modela.fit(cv_train, y_train)\n",
        "metrics(modela,cv_test,y_test)"
      ],
      "execution_count": 44,
      "outputs": [
        {
          "output_type": "display_data",
          "data": {
            "text/plain": [
              "<Figure size 288x288 with 2 Axes>"
            ],
            "image/png": "[encoded data removed]"
          },
          "metadata": {
            "needs_background": "light"
          }
        },
        {
          "output_type": "stream",
          "name": "stdout",
          "text": [
            "\n",
            "Accuracy:  0.86\n",
            "\n",
            "F1 Score:  0.86\n",
            "\n",
            "Report:               precision    recall  f1-score   support\n",
            "\n",
            "           0       0.87      0.85      0.86      5035\n",
            "           1       0.85      0.87      0.86      4965\n",
            "\n",
            "    accuracy                           0.86     10000\n",
            "   macro avg       0.86      0.86      0.86     10000\n",
            "weighted avg       0.86      0.86      0.86     10000\n",
            "\n"
          ]
        }
      ]
    },
    {
      "cell_type": "markdown",
      "metadata": {
        "id": "9jvS2G1r6mB2"
      },
      "source": [
        "## 3) XGBoost"
      ]
    },
    {
      "cell_type": "code",
      "metadata": {
        "colab": {
          "base_uri": "https://localhost:8080/"
        },
        "id": "XejinYXf6p-0",
        "outputId": "05425884-6114-458a-d428-a1de128db9cd"
      },
      "source": [
        "model = XGBClassifier() #Default XGBoost Model with TF_IDF\n",
        "model.fit(tfidf_train, y_train)"
      ],
      "execution_count": 45,
      "outputs": [
        {
          "output_type": "execute_result",
          "data": {
            "text/plain": [
              "XGBClassifier()"
            ]
          },
          "metadata": {},
          "execution_count": 45
        }
      ]
    },
    {
      "cell_type": "code",
      "metadata": {
        "colab": {
          "base_uri": "https://localhost:8080/",
          "height": 519
        },
        "id": "TauQgCKU6uod",
        "outputId": "e99b4ea8-e7c9-417b-9085-d339785bd1c5"
      },
      "source": [
        "metrics(model,tfidf_test,y_test)"
      ],
      "execution_count": null,
      "outputs": [
        {
          "output_type": "display_data",
          "data": {
            "image/png": "[encoded data removed]",
            "text/plain": [
              "<Figure size 288x288 with 2 Axes>"
            ]
          },
          "metadata": {
            "needs_background": "light"
          }
        },
        {
          "output_type": "stream",
          "text": [
            "\n",
            "Accuracy:  0.8\n",
            "\n",
            "F1 Score:  0.81\n",
            "\n",
            "Report:               precision    recall  f1-score   support\n",
            "\n",
            "           0       0.84      0.73      0.78      5035\n",
            "           1       0.76      0.86      0.81      4965\n",
            "\n",
            "    accuracy                           0.80     10000\n",
            "   macro avg       0.80      0.80      0.80     10000\n",
            "weighted avg       0.80      0.80      0.80     10000\n",
            "\n"
          ],
          "name": "stdout"
        }
      ]
    },
    {
      "cell_type": "code",
      "metadata": {
        "colab": {
          "base_uri": "https://localhost:8080/"
        },
        "id": "GVFGYr4r6xNB",
        "outputId": "df13ea85-9d27-4daa-ea0b-15b32c4618c4"
      },
      "source": [
        "modelcv = XGBClassifier() #Default XGBoost Model with count Vectorizer\n",
        "modelcv.fit(cv_train, y_train)"
      ],
      "execution_count": 46,
      "outputs": [
        {
          "output_type": "execute_result",
          "data": {
            "text/plain": [
              "XGBClassifier()"
            ]
          },
          "metadata": {},
          "execution_count": 46
        }
      ]
    },
    {
      "cell_type": "code",
      "metadata": {
        "colab": {
          "base_uri": "https://localhost:8080/",
          "height": 527
        },
        "id": "jwvw8mw36zjO",
        "outputId": "e9c52e27-54b3-487c-f707-ae14abfa55a0"
      },
      "source": [
        "metrics(modelcv,cv_test,y_test)"
      ],
      "execution_count": 47,
      "outputs": [
        {
          "output_type": "display_data",
          "data": {
            "text/plain": [
              "<Figure size 288x288 with 2 Axes>"
            ],
            "image/png": "[encoded data removed]"
          },
          "metadata": {
            "needs_background": "light"
          }
        },
        {
          "output_type": "stream",
          "name": "stdout",
          "text": [
            "\n",
            "Accuracy:  0.8\n",
            "\n",
            "F1 Score:  0.81\n",
            "\n",
            "Report:               precision    recall  f1-score   support\n",
            "\n",
            "           0       0.84      0.74      0.79      5035\n",
            "           1       0.77      0.85      0.81      4965\n",
            "\n",
            "    accuracy                           0.80     10000\n",
            "   macro avg       0.80      0.80      0.80     10000\n",
            "weighted avg       0.80      0.80      0.80     10000\n",
            "\n"
          ]
        }
      ]
    },
    {
      "cell_type": "markdown",
      "metadata": {
        "id": "vWkJgqIP63TX"
      },
      "source": [
        "## 4) SVM"
      ]
    },
    {
      "cell_type": "code",
      "metadata": {
        "colab": {
          "base_uri": "https://localhost:8080/",
          "height": 527
        },
        "id": "GwPRcEQr66VI",
        "outputId": "f74046b6-72fa-48c8-84d2-863f85059f0d"
      },
      "source": [
        "from sklearn.svm import LinearSVC\n",
        "\n",
        "linear_svc = LinearSVC(penalty='l2')\n",
        "linear_svc.fit(tfidf_train, y_train)\n",
        "metrics(linear_svc,tfidf_test,y_test)"
      ],
      "execution_count": 48,
      "outputs": [
        {
          "output_type": "display_data",
          "data": {
            "text/plain": [
              "<Figure size 288x288 with 2 Axes>"
            ],
            "image/png": "[encoded data removed]"
          },
          "metadata": {
            "needs_background": "light"
          }
        },
        {
          "output_type": "stream",
          "name": "stdout",
          "text": [
            "\n",
            "Accuracy:  0.89\n",
            "\n",
            "F1 Score:  0.89\n",
            "\n",
            "Report:               precision    recall  f1-score   support\n",
            "\n",
            "           0       0.89      0.88      0.89      5035\n",
            "           1       0.88      0.89      0.89      4965\n",
            "\n",
            "    accuracy                           0.89     10000\n",
            "   macro avg       0.89      0.89      0.89     10000\n",
            "weighted avg       0.89      0.89      0.89     10000\n",
            "\n"
          ]
        }
      ]
    },
    {
      "cell_type": "code",
      "metadata": {
        "colab": {
          "base_uri": "https://localhost:8080/",
          "height": 582
        },
        "id": "oDX6mYHE69Ad",
        "outputId": "efcbf862-2fb6-4946-8dbd-81cc4fbd3db0"
      },
      "source": [
        "#on Count Vectorizer\n",
        "linear_svc1 = LinearSVC(C=0.5, random_state=42)\n",
        "linear_svc1.fit(cv_train, y_train)\n",
        "\n",
        "metrics(linear_svc1,cv_test,y_test)"
      ],
      "execution_count": 49,
      "outputs": [
        {
          "output_type": "stream",
          "name": "stderr",
          "text": [
            "/usr/local/lib/python3.7/dist-packages/sklearn/svm/_base.py:1208: ConvergenceWarning: Liblinear failed to converge, increase the number of iterations.\n",
            "  ConvergenceWarning,\n"
          ]
        },
        {
          "output_type": "display_data",
          "data": {
            "text/plain": [
              "<Figure size 288x288 with 2 Axes>"
            ],
            "image/png": "[encoded data removed]"
          },
          "metadata": {
            "needs_background": "light"
          }
        },
        {
          "output_type": "stream",
          "name": "stdout",
          "text": [
            "\n",
            "Accuracy:  0.86\n",
            "\n",
            "F1 Score:  0.86\n",
            "\n",
            "Report:               precision    recall  f1-score   support\n",
            "\n",
            "           0       0.86      0.85      0.86      5035\n",
            "           1       0.85      0.86      0.86      4965\n",
            "\n",
            "    accuracy                           0.86     10000\n",
            "   macro avg       0.86      0.86      0.86     10000\n",
            "weighted avg       0.86      0.86      0.86     10000\n",
            "\n"
          ]
        }
      ]
    },
    {
      "cell_type": "markdown",
      "metadata": {
        "id": "6o1JEbxA7FVr"
      },
      "source": [
        "## Neural Network Models"
      ]
    },
    {
      "cell_type": "code",
      "metadata": {
        "id": "ktIUVfWQ7C7n"
      },
      "source": [
        "from keras.preprocessing.text import Tokenizer\n",
        "from keras.preprocessing.sequence import pad_sequences\n",
        "from keras.callbacks import ModelCheckpoint\n",
        "from keras.layers import LSTM,Dropout\n",
        "from keras.layers.embeddings import Embedding\n",
        "from keras.preprocessing import sequence\n",
        "from keras.layers import LSTM, Conv1D, MaxPooling1D, Dropout\n",
        "from keras.callbacks import EarlyStopping\n",
        "from keras.models import Sequential\n",
        "from keras.layers import SimpleRNN,Dense, Activation"
      ],
      "execution_count": 95,
      "outputs": []
    },
    {
      "cell_type": "code",
      "metadata": {
        "id": "FcSjgjH57JeA"
      },
      "source": [
        "def plot_history(history):\n",
        "    acc = history.history['accuracy']\n",
        "    val_acc = history.history['val_accuracy']\n",
        "    loss = history.history['loss']\n",
        "    val_loss = history.history['val_loss']\n",
        "    x = range(1, len(acc) + 1)\n",
        "\n",
        "    plt.figure(figsize=(12, 5))\n",
        "    plt.subplot(1, 2, 1)\n",
        "    plt.plot(x, acc, 'b', label='Training acc')\n",
        "    plt.plot(x, val_acc, 'r', label='Validation acc')\n",
        "    plt.title('Training and validation accuracy')\n",
        "    plt.legend()\n",
        "    plt.subplot(1, 2, 2)\n",
        "    plt.plot(x, loss, 'b', label='Training loss')\n",
        "    plt.plot(x, val_loss, 'r', label='Validation loss')\n",
        "    plt.title('Training and validation loss')\n",
        "    plt.legend()"
      ],
      "execution_count": 96,
      "outputs": []
    },
    {
      "cell_type": "code",
      "metadata": {
        "id": "haEPaai97MtM"
      },
      "source": [
        "## Out of 50k dataset, 36k for training, 4k for Validationa and 10k for testing\n",
        "\n",
        "X_train, X_test, y_train, y_test = train_test_split(data['reviews_p'], data['sentiment'],test_size=0.2, random_state=0)\n",
        "\n",
        "X_train, X_valid, y_train, y_valid = train_test_split(X_train, y_train,test_size=0.1, random_state=0)"
      ],
      "execution_count": 97,
      "outputs": []
    },
    {
      "cell_type": "code",
      "metadata": {
        "colab": {
          "base_uri": "https://localhost:8080/"
        },
        "id": "MmXSCKAA7OwC",
        "outputId": "b897e641-7de7-4dbc-a09e-05e1f3916076"
      },
      "source": [
        "[x.shape for x in [X_train,X_valid,X_test]]"
      ],
      "execution_count": 98,
      "outputs": [
        {
          "output_type": "execute_result",
          "data": {
            "text/plain": [
              "[(36000,), (4000,), (10000,)]"
            ]
          },
          "metadata": {},
          "execution_count": 98
        }
      ]
    },
    {
      "cell_type": "code",
      "metadata": {
        "colab": {
          "base_uri": "https://localhost:8080/"
        },
        "id": "uYWaE9wY7S4a",
        "outputId": "9ee6978f-d3bd-4e88-fc8c-48b98b06ac34"
      },
      "source": [
        "tokenizer = Tokenizer(num_words=5000)\n",
        "tokenizer.fit_on_texts(data.reviews_p)\n",
        "\n",
        "X_train1 = tokenizer.texts_to_sequences(X_train)\n",
        "X_valid1 = tokenizer.texts_to_sequences(X_valid)\n",
        "X_test1 = tokenizer.texts_to_sequences(X_test)\n",
        "\n",
        "vocab_size = len(tokenizer.word_index) + 1  # Adding 1 because of reserved 0 index\n",
        "\n",
        "print(X_train[2])\n",
        "print(X_train1[2])"
      ],
      "execution_count": 99,
      "outputs": [
        {
          "output_type": "stream",
          "name": "stdout",
          "text": [
            "thought wonderful way spend time hot summer weekend sitting air conditioned theater watching lighthearted comedy plot simplistic dialogue witty character likable even well bread suspected serial killer may disappointed realize match point 2 risk addiction thought proof woody allen still fully control style many u grown lovethis would laughed one woodys comedy year dare say decade never impressed scarlet johanson managed tone sexy image jumped right average spirited young womanthis may crown jewel career wittier devil wear prada interesting superman great comedy go see friend\n",
            "[363, 158, 71, 9, 26, 356, 105, 3, 1791, 3460, 3404, 4712, 2294, 1654, 15, 134, 2, 140, 363, 130, 731, 790, 2, 1518, 15, 1138, 29, 1936, 9, 2685, 102, 1138, 3, 675, 1, 120, 48, 177, 120, 31, 1327, 105, 29, 3, 38, 2, 19, 127, 521, 4227, 924, 1138, 4198, 3557, 151, 1523, 1263, 440, 1138, 311, 269, 1939, 2267, 193, 3307, 149, 1138, 3532, 5, 144, 1138, 1213, 41, 40, 41, 233, 445, 3606, 2000, 62, 3, 46, 101, 1341, 3472, 101, 127, 243, 227, 292, 550, 712, 2147, 1562, 48, 28, 53, 460, 264, 2963, 1025, 4121, 1085, 187, 232, 275, 2492, 59, 35, 2104, 2, 721, 88, 59, 2944, 929, 7, 11, 41, 161, 815, 280, 4, 139, 703, 563, 508, 279, 104, 27, 4, 31, 3176, 2802, 1512, 461, 1268, 1089, 36, 2, 60, 17, 148, 39, 219, 2087, 451, 799, 435, 58, 13, 143, 80, 1138, 2554, 3460, 53, 9, 851, 815, 124, 241, 2155, 4530, 2083, 1973, 26, 1151, 51, 1507, 2, 3, 644, 4121, 1138, 234, 4386, 21, 630, 223, 628, 84, 478, 694, 1337, 3697, 1, 234, 162, 19, 134, 1138, 2, 48, 5, 788, 283, 302, 763, 1082, 184, 2365, 4587, 1031, 134, 16, 4146, 27, 821, 120, 433, 53, 561, 561, 53, 3, 1654, 53, 3167, 1290, 706, 9, 2, 122, 2628, 866, 134, 149, 763, 1082, 1449, 2576, 288, 3830, 2740, 2, 29, 19, 1740, 548, 2406, 274]\n"
          ]
        }
      ]
    },
    {
      "cell_type": "code",
      "metadata": {
        "colab": {
          "base_uri": "https://localhost:8080/"
        },
        "id": "X1zUC8Oa7Vqq",
        "outputId": "2f280507-bd84-4a7c-df0f-0f14f5650bd3"
      },
      "source": [
        "print(X_train[2])"
      ],
      "execution_count": 100,
      "outputs": [
        {
          "output_type": "stream",
          "name": "stdout",
          "text": [
            "thought wonderful way spend time hot summer weekend sitting air conditioned theater watching lighthearted comedy plot simplistic dialogue witty character likable even well bread suspected serial killer may disappointed realize match point 2 risk addiction thought proof woody allen still fully control style many u grown lovethis would laughed one woodys comedy year dare say decade never impressed scarlet johanson managed tone sexy image jumped right average spirited young womanthis may crown jewel career wittier devil wear prada interesting superman great comedy go see friend\n"
          ]
        }
      ]
    },
    {
      "cell_type": "code",
      "metadata": {
        "colab": {
          "base_uri": "https://localhost:8080/"
        },
        "id": "hYjzU2dc7ZTM",
        "outputId": "7a6c8a51-93c0-4583-cab8-8b5ba7098b51"
      },
      "source": [
        "seq_lens = [len(s) for s in X_train1]\n",
        "print(\"average length: %0.1f\" % np.mean(seq_lens))\n",
        "print(\"max length: %d\" % max(seq_lens))\n"
      ],
      "execution_count": 101,
      "outputs": [
        {
          "output_type": "stream",
          "name": "stdout",
          "text": [
            "average length: 99.8\n",
            "max length: 949\n"
          ]
        }
      ]
    },
    {
      "cell_type": "code",
      "metadata": {
        "colab": {
          "base_uri": "https://localhost:8080/"
        },
        "id": "ZO7N2VYn7bkA",
        "outputId": "c26c44d4-f254-4195-e8f0-c29f71d51fa1"
      },
      "source": [
        "maxlen = 150\n",
        "\n",
        "X_train1 = pad_sequences(X_train1, padding='post', maxlen=maxlen)\n",
        "X_valid1 = pad_sequences(X_valid1, padding='post', maxlen=maxlen)\n",
        "X_test1 = pad_sequences(X_test1, padding='post', maxlen=maxlen)\n",
        "\n",
        "print(X_train1[2, :])"
      ],
      "execution_count": 102,
      "outputs": [
        {
          "output_type": "stream",
          "name": "stdout",
          "text": [
            "[2147 1562   48   28   53  460  264 2963 1025 4121 1085  187  232  275\n",
            " 2492   59   35 2104    2  721   88   59 2944  929    7   11   41  161\n",
            "  815  280    4  139  703  563  508  279  104   27    4   31 3176 2802\n",
            " 1512  461 1268 1089   36    2   60   17  148   39  219 2087  451  799\n",
            "  435   58   13  143   80 1138 2554 3460   53    9  851  815  124  241\n",
            " 2155 4530 2083 1973   26 1151   51 1507    2    3  644 4121 1138  234\n",
            " 4386   21  630  223  628   84  478  694 1337 3697    1  234  162   19\n",
            "  134 1138    2   48    5  788  283  302  763 1082  184 2365 4587 1031\n",
            "  134   16 4146   27  821  120  433   53  561  561   53    3 1654   53\n",
            " 3167 1290  706    9    2  122 2628  866  134  149  763 1082 1449 2576\n",
            "  288 3830 2740    2   29   19 1740  548 2406  274]\n"
          ]
        }
      ]
    },
    {
      "cell_type": "code",
      "metadata": {
        "colab": {
          "base_uri": "https://localhost:8080/"
        },
        "id": "PdiYo2nB7ekq",
        "outputId": "5c955c17-d799-4f50-93be-3332077114ed"
      },
      "source": [
        "vocab_size"
      ],
      "execution_count": 103,
      "outputs": [
        {
          "output_type": "execute_result",
          "data": {
            "text/plain": [
              "211094"
            ]
          },
          "metadata": {},
          "execution_count": 103
        }
      ]
    },
    {
      "cell_type": "markdown",
      "source": [
        "## RNN Model"
      ],
      "metadata": {
        "id": "0H6H2HYyvxsK"
      }
    },
    {
      "cell_type": "code",
      "source": [
        "embedding_dim = 50\n",
        "callback = EarlyStopping(monitor='val_loss', patience=2)\n",
        "\n",
        "model = Sequential()\n",
        "model.add(layers.Embedding(input_dim=vocab_size, output_dim=embedding_dim, input_length=maxlen))\n",
        "model.add(layers.Flatten())\n",
        "model.add(layers.Dense(10, activation='relu'))\n",
        "model.add(layers.Dense(1, activation='sigmoid'))\n",
        "\n",
        "model.compile(optimizer='adam',loss='binary_crossentropy',metrics=['accuracy'])\n",
        "\n",
        "model.summary()"
      ],
      "metadata": {
        "colab": {
          "base_uri": "https://localhost:8080/"
        },
        "id": "-E7KZiI2KEKS",
        "outputId": "f44b032d-1580-476f-aa76-3375f684ad4d"
      },
      "execution_count": 109,
      "outputs": [
        {
          "output_type": "stream",
          "name": "stdout",
          "text": [
            "Model: \"sequential_15\"\n",
            "_________________________________________________________________\n",
            " Layer (type)                Output Shape              Param #   \n",
            "=================================================================\n",
            " embedding_14 (Embedding)    (None, 150, 50)           10554700  \n",
            "                                                                 \n",
            " flatten_2 (Flatten)         (None, 7500)              0         \n",
            "                                                                 \n",
            " dense_12 (Dense)            (None, 10)                75010     \n",
            "                                                                 \n",
            " dense_13 (Dense)            (None, 1)                 11        \n",
            "                                                                 \n",
            "=================================================================\n",
            "Total params: 10,629,721\n",
            "Trainable params: 10,629,721\n",
            "Non-trainable params: 0\n",
            "_________________________________________________________________\n"
          ]
        }
      ]
    },
    {
      "cell_type": "code",
      "source": [
        "num_words = 15000\n",
        "embedding_vecor_length = 32\n",
        "callback = EarlyStopping(monitor='val_loss', patience=2)\n",
        "\n",
        "model = Sequential()\n",
        "model.add(Embedding(num_words, 32, input_length = len(X_train[0])))\n",
        "model.add(SimpleRNN(16, input_shape = (num_words, maxlen), return_sequences = False, activation = \"relu\"))\n",
        "model.add(Dense(1))\n",
        "model.add(Activation(\"sigmoid\"))\n",
        "\n",
        "print(model.summary())\n",
        "model.compile(loss = \"binary_crossentropy\", optimizer = \"rmsprop\", metrics = [\"accuracy\"])"
      ],
      "metadata": {
        "colab": {
          "base_uri": "https://localhost:8080/"
        },
        "id": "FjEhpfJEFHUS",
        "outputId": "e6ed17b0-e002-44db-8f7d-005b74c18f71"
      },
      "execution_count": 93,
      "outputs": [
        {
          "output_type": "stream",
          "name": "stdout",
          "text": [
            "Model: \"sequential_13\"\n",
            "_________________________________________________________________\n",
            " Layer (type)                Output Shape              Param #   \n",
            "=================================================================\n",
            " embedding_12 (Embedding)    (None, 130, 32)           480000    \n",
            "                                                                 \n",
            " simple_rnn_5 (SimpleRNN)    (None, 16)                784       \n",
            "                                                                 \n",
            " dense_9 (Dense)             (None, 1)                 17        \n",
            "                                                                 \n",
            " activation_5 (Activation)   (None, 1)                 0         \n",
            "                                                                 \n",
            "=================================================================\n",
            "Total params: 480,801\n",
            "Trainable params: 480,801\n",
            "Non-trainable params: 0\n",
            "_________________________________________________________________\n",
            "None\n"
          ]
        }
      ]
    },
    {
      "cell_type": "code",
      "source": [
        "history = model.fit(X_train1, y_train,epochs=10,verbose=True,validation_data=(X_valid1, y_valid),batch_size=1000,callbacks=[callback])"
      ],
      "metadata": {
        "colab": {
          "base_uri": "https://localhost:8080/"
        },
        "id": "63Y27cMrKPHz",
        "outputId": "fbed4708-c69c-41a0-e12a-e511820da8c5"
      },
      "execution_count": 110,
      "outputs": [
        {
          "output_type": "stream",
          "name": "stdout",
          "text": [
            "Epoch 1/10\n",
            "36/36 [==============================] - 6s 150ms/step - loss: 0.6848 - accuracy: 0.5785 - val_loss: 0.6553 - val_accuracy: 0.7360\n",
            "Epoch 2/10\n",
            "36/36 [==============================] - 5s 148ms/step - loss: 0.4621 - accuracy: 0.8263 - val_loss: 0.3296 - val_accuracy: 0.8618\n",
            "Epoch 3/10\n",
            "36/36 [==============================] - 7s 183ms/step - loss: 0.2674 - accuracy: 0.8935 - val_loss: 0.2902 - val_accuracy: 0.8767\n",
            "Epoch 4/10\n",
            "36/36 [==============================] - 5s 152ms/step - loss: 0.2132 - accuracy: 0.9172 - val_loss: 0.2864 - val_accuracy: 0.8792\n",
            "Epoch 5/10\n",
            "36/36 [==============================] - 6s 153ms/step - loss: 0.1775 - accuracy: 0.9348 - val_loss: 0.2968 - val_accuracy: 0.8770\n",
            "Epoch 6/10\n",
            "36/36 [==============================] - 5s 152ms/step - loss: 0.1416 - accuracy: 0.9544 - val_loss: 0.3011 - val_accuracy: 0.8788\n"
          ]
        }
      ]
    },
    {
      "cell_type": "code",
      "source": [
        "accuracy_score(y_test, (model.predict(X_test1) > 0.5).astype(\"int32\"))"
      ],
      "metadata": {
        "colab": {
          "base_uri": "https://localhost:8080/"
        },
        "id": "Bq9_lzQIK0nm",
        "outputId": "a139b7b0-d19b-4bf9-c795-6ed3c57db751"
      },
      "execution_count": 111,
      "outputs": [
        {
          "output_type": "execute_result",
          "data": {
            "text/plain": [
              "0.8811"
            ]
          },
          "metadata": {},
          "execution_count": 111
        }
      ]
    },
    {
      "cell_type": "code",
      "metadata": {
        "colab": {
          "base_uri": "https://localhost:8080/",
          "height": 336
        },
        "id": "cNeIxSaY7rIK",
        "outputId": "9f715715-bab0-4e9d-f513-4513ac09e849"
      },
      "source": [
        "plot_history(history)"
      ],
      "execution_count": 112,
      "outputs": [
        {
          "output_type": "display_data",
          "data": {
            "text/plain": [
              "<Figure size 864x360 with 2 Axes>"
            ],
            "image/png": "[encoded data removed]"
          },
          "metadata": {
            "needs_background": "light"
          }
        }
      ]
    },
    {
      "cell_type": "code",
      "metadata": {
        "id": "GO1exb_v7tEC",
        "colab": {
          "base_uri": "https://localhost:8080/",
          "height": 284
        },
        "outputId": "77758f9f-9ef1-44b5-ec3f-dfe43f5b313b"
      },
      "source": [
        "plt.figure(figsize=(4,4))\n",
        "sns.heatmap(confusion_matrix(y_test, (model.predict(X_test1) > 0.5).astype(\"int32\")),annot=True,cmap='coolwarm',xticklabels=[0,1],fmt='d',annot_kws={\"fontsize\":19})\n",
        "plt.xlabel(\"Predicted\",fontsize=16)\n",
        "plt.ylabel(\"Actual\",fontsize=16)\n",
        "plt.show()"
      ],
      "execution_count": 113,
      "outputs": [
        {
          "output_type": "display_data",
          "data": {
            "text/plain": [
              "<Figure size 288x288 with 2 Axes>"
            ],
            "image/png": "[encoded data removed]"
          },
          "metadata": {
            "needs_background": "light"
          }
        }
      ]
    },
    {
      "cell_type": "markdown",
      "metadata": {
        "id": "gW1zS0RA7zuo"
      },
      "source": [
        "## LSTM Model"
      ]
    },
    {
      "cell_type": "code",
      "metadata": {
        "id": "4JL-F4Qw7ygr",
        "colab": {
          "base_uri": "https://localhost:8080/"
        },
        "outputId": "0b6f9008-004d-45f4-b788-29eca642c7cc"
      },
      "source": [
        "embedding_vecor_length = 32\n",
        "callback = EarlyStopping(monitor='val_loss', patience=2)\n",
        "\n",
        "model = Sequential()\n",
        "model.add(Embedding(input_dim=vocab_size, output_dim=embedding_dim, input_length=maxlen))\n",
        "model.add(LSTM(100, dropout=0.2, recurrent_dropout=0.2))\n",
        "model.add(Dense(1, activation='sigmoid'))\n",
        "\n",
        "model.compile(loss='binary_crossentropy', optimizer='adam', metrics=['accuracy'])\n",
        "\n",
        "print(model.summary())"
      ],
      "execution_count": 65,
      "outputs": [
        {
          "output_type": "stream",
          "name": "stdout",
          "text": [
            "Model: \"sequential_1\"\n",
            "_________________________________________________________________\n",
            " Layer (type)                Output Shape              Param #   \n",
            "=================================================================\n",
            " embedding_1 (Embedding)     (None, 150, 50)           10554700  \n",
            "                                                                 \n",
            " lstm (LSTM)                 (None, 100)               60400     \n",
            "                                                                 \n",
            " dense_2 (Dense)             (None, 1)                 101       \n",
            "                                                                 \n",
            "=================================================================\n",
            "Total params: 10,615,201\n",
            "Trainable params: 10,615,201\n",
            "Non-trainable params: 0\n",
            "_________________________________________________________________\n",
            "None\n"
          ]
        }
      ]
    },
    {
      "cell_type": "code",
      "metadata": {
        "id": "PAYptT4H78p3",
        "colab": {
          "base_uri": "https://localhost:8080/"
        },
        "outputId": "c676d200-7f92-4eab-f224-b5f1933de5d3"
      },
      "source": [
        "model.fit(X_train1, y_train, epochs=10, batch_size=256,verbose = 1,validation_data=(X_valid1,y_valid),callbacks=[callback])"
      ],
      "execution_count": 66,
      "outputs": [
        {
          "output_type": "stream",
          "name": "stdout",
          "text": [
            "Epoch 1/10\n",
            "141/141 [==============================] - 137s 954ms/step - loss: 0.6096 - accuracy: 0.6220 - val_loss: 0.3893 - val_accuracy: 0.8482\n",
            "Epoch 2/10\n",
            "141/141 [==============================] - 133s 945ms/step - loss: 0.3328 - accuracy: 0.8732 - val_loss: 0.3221 - val_accuracy: 0.8702\n",
            "Epoch 3/10\n",
            "141/141 [==============================] - 143s 1s/step - loss: 0.2679 - accuracy: 0.8993 - val_loss: 0.2919 - val_accuracy: 0.8745\n",
            "Epoch 4/10\n",
            "141/141 [==============================] - 171s 1s/step - loss: 0.2372 - accuracy: 0.9134 - val_loss: 0.3279 - val_accuracy: 0.8775\n",
            "Epoch 5/10\n",
            "141/141 [==============================] - 138s 977ms/step - loss: 0.2250 - accuracy: 0.9192 - val_loss: 0.2907 - val_accuracy: 0.8813\n",
            "Epoch 6/10\n",
            "141/141 [==============================] - 134s 954ms/step - loss: 0.2189 - accuracy: 0.9206 - val_loss: 0.2944 - val_accuracy: 0.8790\n",
            "Epoch 7/10\n",
            "141/141 [==============================] - 131s 929ms/step - loss: 0.2054 - accuracy: 0.9267 - val_loss: 0.3685 - val_accuracy: 0.8737\n"
          ]
        },
        {
          "output_type": "execute_result",
          "data": {
            "text/plain": [
              "<keras.callbacks.History at 0x7f5d45a821d0>"
            ]
          },
          "metadata": {},
          "execution_count": 66
        }
      ]
    },
    {
      "cell_type": "code",
      "metadata": {
        "id": "V1b0HnIf7-b3",
        "colab": {
          "base_uri": "https://localhost:8080/"
        },
        "outputId": "e6ca0d39-8189-455d-95c7-c0b13070e389"
      },
      "source": [
        "accuracy_score(y_test, (model.predict(X_test1) > 0.5).astype(\"int32\"))"
      ],
      "execution_count": 67,
      "outputs": [
        {
          "output_type": "execute_result",
          "data": {
            "text/plain": [
              "0.8743"
            ]
          },
          "metadata": {},
          "execution_count": 67
        }
      ]
    },
    {
      "cell_type": "code",
      "metadata": {
        "id": "3uwrOUdB8Aiu",
        "colab": {
          "base_uri": "https://localhost:8080/",
          "height": 336
        },
        "outputId": "b59b7d31-60af-492d-f726-bc0be30c80b2"
      },
      "source": [
        "plot_history(history)"
      ],
      "execution_count": 68,
      "outputs": [
        {
          "output_type": "display_data",
          "data": {
            "text/plain": [
              "<Figure size 864x360 with 2 Axes>"
            ],
            "image/png": "[encoded data removed]"
          },
          "metadata": {
            "needs_background": "light"
          }
        }
      ]
    },
    {
      "cell_type": "code",
      "metadata": {
        "id": "0QLktIly8FZ9",
        "colab": {
          "base_uri": "https://localhost:8080/",
          "height": 284
        },
        "outputId": "42602a2a-63dc-4d55-87e9-8e95410c476f"
      },
      "source": [
        "plt.figure(figsize=(4,4))\n",
        "sns.heatmap(confusion_matrix(y_test, (model.predict(X_test1) > 0.5).astype(\"int32\")),annot=True,cmap='coolwarm',xticklabels=[0,1],fmt='d',annot_kws={\"fontsize\":19})\n",
        "plt.xlabel(\"Predicted\",fontsize=16)\n",
        "plt.ylabel(\"Actual\",fontsize=16)\n",
        "plt.show()"
      ],
      "execution_count": 69,
      "outputs": [
        {
          "output_type": "display_data",
          "data": {
            "text/plain": [
              "<Figure size 288x288 with 2 Axes>"
            ],
            "image/png": "[encoded data removed]"
          },
          "metadata": {
            "needs_background": "light"
          }
        }
      ]
    },
    {
      "cell_type": "markdown",
      "metadata": {
        "id": "JmQ5230D8P-U"
      },
      "source": [
        "## CNN Model"
      ]
    },
    {
      "cell_type": "code",
      "metadata": {
        "id": "L05hMLI-8GC5",
        "colab": {
          "base_uri": "https://localhost:8080/"
        },
        "outputId": "4c2c17c1-70e4-4f93-92e0-77de642c82b8"
      },
      "source": [
        "embedding_vecor_length = 32\n",
        "callback = EarlyStopping(monitor='val_loss', patience=2)\n",
        "\n",
        "model = Sequential()\n",
        "model.add(Embedding(input_dim=vocab_size, output_dim=embedding_dim, input_length=maxlen))\n",
        "model.add(Conv1D(filters=32, kernel_size=3, padding='same', activation='relu'))\n",
        "model.add(MaxPooling1D(pool_size=2))\n",
        "model.add(LSTM(100))\n",
        "model.add(Dense(1, activation='sigmoid'))\n",
        "\n",
        "model.compile(loss='binary_crossentropy', optimizer='adam', metrics=['accuracy'])\n",
        "\n",
        "print(model.summary())"
      ],
      "execution_count": 70,
      "outputs": [
        {
          "output_type": "stream",
          "name": "stdout",
          "text": [
            "Model: \"sequential_2\"\n",
            "_________________________________________________________________\n",
            " Layer (type)                Output Shape              Param #   \n",
            "=================================================================\n",
            " embedding_2 (Embedding)     (None, 150, 50)           10554700  \n",
            "                                                                 \n",
            " conv1d (Conv1D)             (None, 150, 32)           4832      \n",
            "                                                                 \n",
            " max_pooling1d (MaxPooling1D  (None, 75, 32)           0         \n",
            " )                                                               \n",
            "                                                                 \n",
            " lstm_1 (LSTM)               (None, 100)               53200     \n",
            "                                                                 \n",
            " dense_3 (Dense)             (None, 1)                 101       \n",
            "                                                                 \n",
            "=================================================================\n",
            "Total params: 10,612,833\n",
            "Trainable params: 10,612,833\n",
            "Non-trainable params: 0\n",
            "_________________________________________________________________\n",
            "None\n"
          ]
        }
      ]
    },
    {
      "cell_type": "code",
      "metadata": {
        "id": "nzVN1aiM8VWq",
        "colab": {
          "base_uri": "https://localhost:8080/"
        },
        "outputId": "64706bec-9325-4755-96e5-e4483bd0cbcc"
      },
      "source": [
        "model.fit(X_train1, y_train, epochs=10, batch_size=256,verbose = 1,validation_data=(X_valid1,y_valid),callbacks=[callback])"
      ],
      "execution_count": 71,
      "outputs": [
        {
          "output_type": "stream",
          "name": "stdout",
          "text": [
            "Epoch 1/10\n",
            "141/141 [==============================] - 62s 424ms/step - loss: 0.4818 - accuracy: 0.7310 - val_loss: 0.3001 - val_accuracy: 0.8740\n",
            "Epoch 2/10\n",
            "141/141 [==============================] - 60s 423ms/step - loss: 0.2549 - accuracy: 0.9007 - val_loss: 0.2773 - val_accuracy: 0.8838\n",
            "Epoch 3/10\n",
            "141/141 [==============================] - 59s 420ms/step - loss: 0.2085 - accuracy: 0.9209 - val_loss: 0.2926 - val_accuracy: 0.8855\n",
            "Epoch 4/10\n",
            "141/141 [==============================] - 59s 418ms/step - loss: 0.1773 - accuracy: 0.9359 - val_loss: 0.3287 - val_accuracy: 0.8800\n"
          ]
        },
        {
          "output_type": "execute_result",
          "data": {
            "text/plain": [
              "<keras.callbacks.History at 0x7f5d597ee890>"
            ]
          },
          "metadata": {},
          "execution_count": 71
        }
      ]
    },
    {
      "cell_type": "code",
      "metadata": {
        "id": "B3RhUAb48Yx6",
        "colab": {
          "base_uri": "https://localhost:8080/"
        },
        "outputId": "e52f524a-17b5-46b0-bccc-a9ec06983c0a"
      },
      "source": [
        "accuracy_score(y_test, (model.predict(X_test1) > 0.5).astype(\"int32\"))"
      ],
      "execution_count": 72,
      "outputs": [
        {
          "output_type": "execute_result",
          "data": {
            "text/plain": [
              "0.8741"
            ]
          },
          "metadata": {},
          "execution_count": 72
        }
      ]
    },
    {
      "cell_type": "code",
      "metadata": {
        "id": "48gwuNsM8a7C",
        "colab": {
          "base_uri": "https://localhost:8080/",
          "height": 336
        },
        "outputId": "3ebce006-6202-4c54-8a53-ab8d3f447f9e"
      },
      "source": [
        "plot_history(history)"
      ],
      "execution_count": 73,
      "outputs": [
        {
          "output_type": "display_data",
          "data": {
            "text/plain": [
              "<Figure size 864x360 with 2 Axes>"
            ],
            "image/png": "[encoded data removed]"
          },
          "metadata": {
            "needs_background": "light"
          }
        }
      ]
    }
  ]
}